{
 "cells": [
  {
   "cell_type": "code",
   "execution_count": 1,
   "id": "18af087e",
   "metadata": {
    "ExecuteTime": {
     "end_time": "2023-06-26T07:08:46.225517Z",
     "start_time": "2023-06-26T07:08:44.423063Z"
    }
   },
   "outputs": [],
   "source": [
    "import pandas as pd\n",
    "import numpy as np\n",
    "import matplotlib.pyplot as plt\n",
    "import seaborn as sn"
   ]
  },
  {
   "cell_type": "markdown",
   "id": "d6e18af9",
   "metadata": {},
   "source": [
    "## Part 2 - Predict Salary hike"
   ]
  },
  {
   "cell_type": "code",
   "execution_count": 2,
   "id": "6b6f3f29",
   "metadata": {
    "ExecuteTime": {
     "end_time": "2023-06-26T07:08:46.272370Z",
     "start_time": "2023-06-26T07:08:46.229485Z"
    }
   },
   "outputs": [
    {
     "data": {
      "text/html": [
       "<div>\n",
       "<style scoped>\n",
       "    .dataframe tbody tr th:only-of-type {\n",
       "        vertical-align: middle;\n",
       "    }\n",
       "\n",
       "    .dataframe tbody tr th {\n",
       "        vertical-align: top;\n",
       "    }\n",
       "\n",
       "    .dataframe thead th {\n",
       "        text-align: right;\n",
       "    }\n",
       "</style>\n",
       "<table border=\"1\" class=\"dataframe\">\n",
       "  <thead>\n",
       "    <tr style=\"text-align: right;\">\n",
       "      <th></th>\n",
       "      <th>YearsExperience</th>\n",
       "      <th>Salary</th>\n",
       "    </tr>\n",
       "  </thead>\n",
       "  <tbody>\n",
       "    <tr>\n",
       "      <th>0</th>\n",
       "      <td>1.1</td>\n",
       "      <td>39343.0</td>\n",
       "    </tr>\n",
       "    <tr>\n",
       "      <th>1</th>\n",
       "      <td>1.3</td>\n",
       "      <td>46205.0</td>\n",
       "    </tr>\n",
       "    <tr>\n",
       "      <th>2</th>\n",
       "      <td>1.5</td>\n",
       "      <td>37731.0</td>\n",
       "    </tr>\n",
       "    <tr>\n",
       "      <th>3</th>\n",
       "      <td>2.0</td>\n",
       "      <td>43525.0</td>\n",
       "    </tr>\n",
       "    <tr>\n",
       "      <th>4</th>\n",
       "      <td>2.2</td>\n",
       "      <td>39891.0</td>\n",
       "    </tr>\n",
       "  </tbody>\n",
       "</table>\n",
       "</div>"
      ],
      "text/plain": [
       "   YearsExperience   Salary\n",
       "0              1.1  39343.0\n",
       "1              1.3  46205.0\n",
       "2              1.5  37731.0\n",
       "3              2.0  43525.0\n",
       "4              2.2  39891.0"
      ]
     },
     "execution_count": 2,
     "metadata": {},
     "output_type": "execute_result"
    }
   ],
   "source": [
    "data = pd.read_csv('Salary_Data.csv')\n",
    "data.head()"
   ]
  },
  {
   "cell_type": "code",
   "execution_count": 3,
   "id": "475ad364",
   "metadata": {
    "ExecuteTime": {
     "end_time": "2023-06-26T07:08:46.288327Z",
     "start_time": "2023-06-26T07:08:46.274366Z"
    }
   },
   "outputs": [
    {
     "data": {
      "text/html": [
       "<div>\n",
       "<style scoped>\n",
       "    .dataframe tbody tr th:only-of-type {\n",
       "        vertical-align: middle;\n",
       "    }\n",
       "\n",
       "    .dataframe tbody tr th {\n",
       "        vertical-align: top;\n",
       "    }\n",
       "\n",
       "    .dataframe thead th {\n",
       "        text-align: right;\n",
       "    }\n",
       "</style>\n",
       "<table border=\"1\" class=\"dataframe\">\n",
       "  <thead>\n",
       "    <tr style=\"text-align: right;\">\n",
       "      <th></th>\n",
       "      <th>YearsExperience</th>\n",
       "      <th>Salary</th>\n",
       "    </tr>\n",
       "  </thead>\n",
       "  <tbody>\n",
       "    <tr>\n",
       "      <th>YearsExperience</th>\n",
       "      <td>1.000000</td>\n",
       "      <td>0.978242</td>\n",
       "    </tr>\n",
       "    <tr>\n",
       "      <th>Salary</th>\n",
       "      <td>0.978242</td>\n",
       "      <td>1.000000</td>\n",
       "    </tr>\n",
       "  </tbody>\n",
       "</table>\n",
       "</div>"
      ],
      "text/plain": [
       "                 YearsExperience    Salary\n",
       "YearsExperience         1.000000  0.978242\n",
       "Salary                  0.978242  1.000000"
      ]
     },
     "execution_count": 3,
     "metadata": {},
     "output_type": "execute_result"
    }
   ],
   "source": [
    "data.corr()"
   ]
  },
  {
   "cell_type": "markdown",
   "id": "f3750951",
   "metadata": {},
   "source": [
    "High positive correlation between the two variables"
   ]
  },
  {
   "cell_type": "markdown",
   "id": "7627a4d1",
   "metadata": {},
   "source": [
    "### Training the model"
   ]
  },
  {
   "cell_type": "code",
   "execution_count": 4,
   "id": "321cbe17",
   "metadata": {
    "ExecuteTime": {
     "end_time": "2023-06-26T07:08:46.428626Z",
     "start_time": "2023-06-26T07:08:46.293316Z"
    }
   },
   "outputs": [],
   "source": [
    "import statsmodels.formula.api as smf\n",
    "model = smf.ols('Salary~YearsExperience', data = data).fit()"
   ]
  },
  {
   "cell_type": "markdown",
   "id": "df0af61a",
   "metadata": {},
   "source": [
    "### Checking the R-Squared value"
   ]
  },
  {
   "cell_type": "code",
   "execution_count": 5,
   "id": "c7537414",
   "metadata": {
    "ExecuteTime": {
     "end_time": "2023-06-26T07:08:46.459484Z",
     "start_time": "2023-06-26T07:08:46.434556Z"
    }
   },
   "outputs": [
    {
     "data": {
      "text/html": [
       "<table class=\"simpletable\">\n",
       "<caption>OLS Regression Results</caption>\n",
       "<tr>\n",
       "  <th>Dep. Variable:</th>         <td>Salary</td>      <th>  R-squared:         </th> <td>   0.957</td>\n",
       "</tr>\n",
       "<tr>\n",
       "  <th>Model:</th>                   <td>OLS</td>       <th>  Adj. R-squared:    </th> <td>   0.955</td>\n",
       "</tr>\n",
       "<tr>\n",
       "  <th>Method:</th>             <td>Least Squares</td>  <th>  F-statistic:       </th> <td>   622.5</td>\n",
       "</tr>\n",
       "<tr>\n",
       "  <th>Date:</th>             <td>Mon, 26 Jun 2023</td> <th>  Prob (F-statistic):</th> <td>1.14e-20</td>\n",
       "</tr>\n",
       "<tr>\n",
       "  <th>Time:</th>                 <td>12:38:46</td>     <th>  Log-Likelihood:    </th> <td> -301.44</td>\n",
       "</tr>\n",
       "<tr>\n",
       "  <th>No. Observations:</th>      <td>    30</td>      <th>  AIC:               </th> <td>   606.9</td>\n",
       "</tr>\n",
       "<tr>\n",
       "  <th>Df Residuals:</th>          <td>    28</td>      <th>  BIC:               </th> <td>   609.7</td>\n",
       "</tr>\n",
       "<tr>\n",
       "  <th>Df Model:</th>              <td>     1</td>      <th>                     </th>     <td> </td>   \n",
       "</tr>\n",
       "<tr>\n",
       "  <th>Covariance Type:</th>      <td>nonrobust</td>    <th>                     </th>     <td> </td>   \n",
       "</tr>\n",
       "</table>\n",
       "<table class=\"simpletable\">\n",
       "<tr>\n",
       "         <td></td>            <th>coef</th>     <th>std err</th>      <th>t</th>      <th>P>|t|</th>  <th>[0.025</th>    <th>0.975]</th>  \n",
       "</tr>\n",
       "<tr>\n",
       "  <th>Intercept</th>       <td> 2.579e+04</td> <td> 2273.053</td> <td>   11.347</td> <td> 0.000</td> <td> 2.11e+04</td> <td> 3.04e+04</td>\n",
       "</tr>\n",
       "<tr>\n",
       "  <th>YearsExperience</th> <td> 9449.9623</td> <td>  378.755</td> <td>   24.950</td> <td> 0.000</td> <td> 8674.119</td> <td> 1.02e+04</td>\n",
       "</tr>\n",
       "</table>\n",
       "<table class=\"simpletable\">\n",
       "<tr>\n",
       "  <th>Omnibus:</th>       <td> 2.140</td> <th>  Durbin-Watson:     </th> <td>   1.648</td>\n",
       "</tr>\n",
       "<tr>\n",
       "  <th>Prob(Omnibus):</th> <td> 0.343</td> <th>  Jarque-Bera (JB):  </th> <td>   1.569</td>\n",
       "</tr>\n",
       "<tr>\n",
       "  <th>Skew:</th>          <td> 0.363</td> <th>  Prob(JB):          </th> <td>   0.456</td>\n",
       "</tr>\n",
       "<tr>\n",
       "  <th>Kurtosis:</th>      <td> 2.147</td> <th>  Cond. No.          </th> <td>    13.2</td>\n",
       "</tr>\n",
       "</table><br/><br/>Notes:<br/>[1] Standard Errors assume that the covariance matrix of the errors is correctly specified."
      ],
      "text/plain": [
       "<class 'statsmodels.iolib.summary.Summary'>\n",
       "\"\"\"\n",
       "                            OLS Regression Results                            \n",
       "==============================================================================\n",
       "Dep. Variable:                 Salary   R-squared:                       0.957\n",
       "Model:                            OLS   Adj. R-squared:                  0.955\n",
       "Method:                 Least Squares   F-statistic:                     622.5\n",
       "Date:                Mon, 26 Jun 2023   Prob (F-statistic):           1.14e-20\n",
       "Time:                        12:38:46   Log-Likelihood:                -301.44\n",
       "No. Observations:                  30   AIC:                             606.9\n",
       "Df Residuals:                      28   BIC:                             609.7\n",
       "Df Model:                           1                                         \n",
       "Covariance Type:            nonrobust                                         \n",
       "===================================================================================\n",
       "                      coef    std err          t      P>|t|      [0.025      0.975]\n",
       "-----------------------------------------------------------------------------------\n",
       "Intercept        2.579e+04   2273.053     11.347      0.000    2.11e+04    3.04e+04\n",
       "YearsExperience  9449.9623    378.755     24.950      0.000    8674.119    1.02e+04\n",
       "==============================================================================\n",
       "Omnibus:                        2.140   Durbin-Watson:                   1.648\n",
       "Prob(Omnibus):                  0.343   Jarque-Bera (JB):                1.569\n",
       "Skew:                           0.363   Prob(JB):                        0.456\n",
       "Kurtosis:                       2.147   Cond. No.                         13.2\n",
       "==============================================================================\n",
       "\n",
       "Notes:\n",
       "[1] Standard Errors assume that the covariance matrix of the errors is correctly specified.\n",
       "\"\"\""
      ]
     },
     "execution_count": 5,
     "metadata": {},
     "output_type": "execute_result"
    }
   ],
   "source": [
    "model.summary()"
   ]
  },
  {
   "cell_type": "markdown",
   "id": "47bea450",
   "metadata": {},
   "source": [
    "-------------------\n",
    "R-squared value is way more than the general target value which is 0.75. The model's r-squared value is 0.957"
   ]
  },
  {
   "cell_type": "markdown",
   "id": "feaf4b93",
   "metadata": {},
   "source": [
    "### Making predictions and calculating the RMSE value"
   ]
  },
  {
   "cell_type": "code",
   "execution_count": 6,
   "id": "f8ad6174",
   "metadata": {
    "ExecuteTime": {
     "end_time": "2023-06-26T07:08:46.475442Z",
     "start_time": "2023-06-26T07:08:46.462478Z"
    }
   },
   "outputs": [
    {
     "data": {
      "text/plain": [
       "0      36187.158752\n",
       "1      38077.151217\n",
       "2      39967.143681\n",
       "3      44692.124842\n",
       "4      46582.117306\n",
       "5      53197.090931\n",
       "6      54142.087163\n",
       "7      56032.079627\n",
       "8      56032.079627\n",
       "9      60757.060788\n",
       "10     62647.053252\n",
       "11     63592.049484\n",
       "12     63592.049484\n",
       "13     64537.045717\n",
       "14     68317.030645\n",
       "15     72097.015574\n",
       "16     73987.008038\n",
       "17     75877.000502\n",
       "18     81546.977895\n",
       "19     82491.974127\n",
       "20     90051.943985\n",
       "21     92886.932681\n",
       "22    100446.902538\n",
       "23    103281.891235\n",
       "24    108006.872395\n",
       "25    110841.861092\n",
       "26    115566.842252\n",
       "27    116511.838485\n",
       "28    123126.812110\n",
       "29    125016.804574\n",
       "dtype: float64"
      ]
     },
     "execution_count": 6,
     "metadata": {},
     "output_type": "execute_result"
    }
   ],
   "source": [
    "pred = model.predict(data['YearsExperience'])\n",
    "pred"
   ]
  },
  {
   "cell_type": "code",
   "execution_count": 7,
   "id": "a06367f4",
   "metadata": {
    "ExecuteTime": {
     "end_time": "2023-06-26T07:08:46.491398Z",
     "start_time": "2023-06-26T07:08:46.478435Z"
    }
   },
   "outputs": [
    {
     "data": {
      "text/plain": [
       "0      3155.841248\n",
       "1      8127.848783\n",
       "2     -2236.143681\n",
       "3     -1167.124842\n",
       "4     -6691.117306\n",
       "5      3444.909069\n",
       "6      6007.912837\n",
       "7     -1587.079627\n",
       "8      8412.920373\n",
       "9     -3568.060788\n",
       "10      570.946748\n",
       "11    -7798.049484\n",
       "12    -6635.049484\n",
       "13    -7456.045717\n",
       "14    -7206.030645\n",
       "15    -4159.015574\n",
       "16    -7958.008038\n",
       "17     7210.999498\n",
       "18     -183.977895\n",
       "19    11448.025873\n",
       "20     1686.056015\n",
       "21     5386.067319\n",
       "22      855.097462\n",
       "23    10530.108765\n",
       "24     1424.127605\n",
       "25    -5259.861092\n",
       "26     1402.157748\n",
       "27    -3876.838485\n",
       "28     -735.812110\n",
       "29    -3144.804574\n",
       "dtype: float64"
      ]
     },
     "execution_count": 7,
     "metadata": {},
     "output_type": "execute_result"
    }
   ],
   "source": [
    "# All the errors in the predictions\n",
    "model.resid"
   ]
  },
  {
   "cell_type": "code",
   "execution_count": 8,
   "id": "a0f458fe",
   "metadata": {
    "ExecuteTime": {
     "end_time": "2023-06-26T07:08:46.757898Z",
     "start_time": "2023-06-26T07:08:46.494395Z"
    }
   },
   "outputs": [
    {
     "data": {
      "text/plain": [
       "5592.043608760662"
      ]
     },
     "execution_count": 8,
     "metadata": {},
     "output_type": "execute_result"
    }
   ],
   "source": [
    "# Total error can be calculated using the rmse value - it should be less.\n",
    "from sklearn.metrics import mean_squared_error\n",
    "rmse = np.sqrt(mean_squared_error(data['Salary'], pred))\n",
    "rmse"
   ]
  },
  {
   "cell_type": "code",
   "execution_count": 9,
   "id": "15fc8f9b",
   "metadata": {
    "ExecuteTime": {
     "end_time": "2023-06-26T07:08:47.038006Z",
     "start_time": "2023-06-26T07:08:46.759875Z"
    }
   },
   "outputs": [
    {
     "data": {
      "text/plain": [
       "Text(0, 0.5, 'Salary')"
      ]
     },
     "execution_count": 9,
     "metadata": {},
     "output_type": "execute_result"
    },
    {
     "data": {
      "image/png": "[encoded data removed]",
      "text/plain": [
       "<Figure size 640x480 with 1 Axes>"
      ]
     },
     "metadata": {},
     "output_type": "display_data"
    }
   ],
   "source": [
    "plt.scatter(data['YearsExperience'], data['Salary'], color = 'red')\n",
    "plt.plot(data['YearsExperience'], pred, color = 'black')\n",
    "plt.xlabel('Years of Experience')\n",
    "plt.ylabel('Salary')"
   ]
  },
  {
   "cell_type": "markdown",
   "id": "f0a97c7e",
   "metadata": {},
   "source": [
    "Further improvement to the r-squared value is not needed. But we can check if any improvements can be made\n",
    "\n",
    "### Applying transformations to the data to improve r^2\n",
    "1. Log transformations\n",
    "2. exponential\n",
    "3. sqrt\n",
    "4. square"
   ]
  },
  {
   "cell_type": "markdown",
   "id": "77f77f39",
   "metadata": {},
   "source": [
    "### Log transformation\n",
    "y = B0 + B1 * X"
   ]
  },
  {
   "cell_type": "code",
   "execution_count": 10,
   "id": "0c83610f",
   "metadata": {
    "ExecuteTime": {
     "end_time": "2023-06-26T07:08:47.068608Z",
     "start_time": "2023-06-26T07:08:47.043993Z"
    }
   },
   "outputs": [],
   "source": [
    "model2 = smf.ols('Salary~np.log(YearsExperience)', data = data).fit()"
   ]
  },
  {
   "cell_type": "code",
   "execution_count": 11,
   "id": "3e386a3b",
   "metadata": {
    "ExecuteTime": {
     "end_time": "2023-06-26T07:08:47.099676Z",
     "start_time": "2023-06-26T07:08:47.071591Z"
    }
   },
   "outputs": [
    {
     "data": {
      "text/html": [
       "<table class=\"simpletable\">\n",
       "<caption>OLS Regression Results</caption>\n",
       "<tr>\n",
       "  <th>Dep. Variable:</th>         <td>Salary</td>      <th>  R-squared:         </th> <td>   0.854</td>\n",
       "</tr>\n",
       "<tr>\n",
       "  <th>Model:</th>                   <td>OLS</td>       <th>  Adj. R-squared:    </th> <td>   0.849</td>\n",
       "</tr>\n",
       "<tr>\n",
       "  <th>Method:</th>             <td>Least Squares</td>  <th>  F-statistic:       </th> <td>   163.6</td>\n",
       "</tr>\n",
       "<tr>\n",
       "  <th>Date:</th>             <td>Mon, 26 Jun 2023</td> <th>  Prob (F-statistic):</th> <td>3.25e-13</td>\n",
       "</tr>\n",
       "<tr>\n",
       "  <th>Time:</th>                 <td>12:38:47</td>     <th>  Log-Likelihood:    </th> <td> -319.77</td>\n",
       "</tr>\n",
       "<tr>\n",
       "  <th>No. Observations:</th>      <td>    30</td>      <th>  AIC:               </th> <td>   643.5</td>\n",
       "</tr>\n",
       "<tr>\n",
       "  <th>Df Residuals:</th>          <td>    28</td>      <th>  BIC:               </th> <td>   646.3</td>\n",
       "</tr>\n",
       "<tr>\n",
       "  <th>Df Model:</th>              <td>     1</td>      <th>                     </th>     <td> </td>   \n",
       "</tr>\n",
       "<tr>\n",
       "  <th>Covariance Type:</th>      <td>nonrobust</td>    <th>                     </th>     <td> </td>   \n",
       "</tr>\n",
       "</table>\n",
       "<table class=\"simpletable\">\n",
       "<tr>\n",
       "             <td></td>                <th>coef</th>     <th>std err</th>      <th>t</th>      <th>P>|t|</th>  <th>[0.025</th>    <th>0.975]</th>  \n",
       "</tr>\n",
       "<tr>\n",
       "  <th>Intercept</th>               <td> 1.493e+04</td> <td> 5156.226</td> <td>    2.895</td> <td> 0.007</td> <td> 4365.921</td> <td> 2.55e+04</td>\n",
       "</tr>\n",
       "<tr>\n",
       "  <th>np.log(YearsExperience)</th> <td> 4.058e+04</td> <td> 3172.453</td> <td>   12.792</td> <td> 0.000</td> <td> 3.41e+04</td> <td> 4.71e+04</td>\n",
       "</tr>\n",
       "</table>\n",
       "<table class=\"simpletable\">\n",
       "<tr>\n",
       "  <th>Omnibus:</th>       <td> 1.094</td> <th>  Durbin-Watson:     </th> <td>   0.512</td>\n",
       "</tr>\n",
       "<tr>\n",
       "  <th>Prob(Omnibus):</th> <td> 0.579</td> <th>  Jarque-Bera (JB):  </th> <td>   0.908</td>\n",
       "</tr>\n",
       "<tr>\n",
       "  <th>Skew:</th>          <td> 0.156</td> <th>  Prob(JB):          </th> <td>   0.635</td>\n",
       "</tr>\n",
       "<tr>\n",
       "  <th>Kurtosis:</th>      <td> 2.207</td> <th>  Cond. No.          </th> <td>    5.76</td>\n",
       "</tr>\n",
       "</table><br/><br/>Notes:<br/>[1] Standard Errors assume that the covariance matrix of the errors is correctly specified."
      ],
      "text/plain": [
       "<class 'statsmodels.iolib.summary.Summary'>\n",
       "\"\"\"\n",
       "                            OLS Regression Results                            \n",
       "==============================================================================\n",
       "Dep. Variable:                 Salary   R-squared:                       0.854\n",
       "Model:                            OLS   Adj. R-squared:                  0.849\n",
       "Method:                 Least Squares   F-statistic:                     163.6\n",
       "Date:                Mon, 26 Jun 2023   Prob (F-statistic):           3.25e-13\n",
       "Time:                        12:38:47   Log-Likelihood:                -319.77\n",
       "No. Observations:                  30   AIC:                             643.5\n",
       "Df Residuals:                      28   BIC:                             646.3\n",
       "Df Model:                           1                                         \n",
       "Covariance Type:            nonrobust                                         \n",
       "===========================================================================================\n",
       "                              coef    std err          t      P>|t|      [0.025      0.975]\n",
       "-------------------------------------------------------------------------------------------\n",
       "Intercept                1.493e+04   5156.226      2.895      0.007    4365.921    2.55e+04\n",
       "np.log(YearsExperience)  4.058e+04   3172.453     12.792      0.000    3.41e+04    4.71e+04\n",
       "==============================================================================\n",
       "Omnibus:                        1.094   Durbin-Watson:                   0.512\n",
       "Prob(Omnibus):                  0.579   Jarque-Bera (JB):                0.908\n",
       "Skew:                           0.156   Prob(JB):                        0.635\n",
       "Kurtosis:                       2.207   Cond. No.                         5.76\n",
       "==============================================================================\n",
       "\n",
       "Notes:\n",
       "[1] Standard Errors assume that the covariance matrix of the errors is correctly specified.\n",
       "\"\"\""
      ]
     },
     "execution_count": 11,
     "metadata": {},
     "output_type": "execute_result"
    }
   ],
   "source": [
    "model2.summary()"
   ]
  },
  {
   "cell_type": "markdown",
   "id": "d2ebf8ae",
   "metadata": {},
   "source": [
    "-------------------\n",
    "**Decreased r-squared value of 0.854. Decrease in the performance of the model**"
   ]
  },
  {
   "cell_type": "code",
   "execution_count": 12,
   "id": "bb7226c2",
   "metadata": {
    "ExecuteTime": {
     "end_time": "2023-06-26T07:08:47.115582Z",
     "start_time": "2023-06-26T07:08:47.101647Z"
    }
   },
   "outputs": [],
   "source": [
    "pred2 = model2.predict(data['YearsExperience'])"
   ]
  },
  {
   "cell_type": "code",
   "execution_count": 13,
   "id": "dcc74ca2",
   "metadata": {
    "ExecuteTime": {
     "end_time": "2023-06-26T07:08:47.131538Z",
     "start_time": "2023-06-26T07:08:47.119572Z"
    }
   },
   "outputs": [
    {
     "data": {
      "text/plain": [
       "79974.15496099806"
      ]
     },
     "execution_count": 13,
     "metadata": {},
     "output_type": "execute_result"
    }
   ],
   "source": [
    "rmse2 = np.sqrt(mean_squared_error(data['YearsExperience'], pred2))\n",
    "rmse2"
   ]
  },
  {
   "cell_type": "code",
   "execution_count": 14,
   "id": "6d9186df",
   "metadata": {
    "ExecuteTime": {
     "end_time": "2023-06-26T07:08:47.335000Z",
     "start_time": "2023-06-26T07:08:47.134530Z"
    }
   },
   "outputs": [
    {
     "data": {
      "text/plain": [
       "Text(0, 0.5, 'Salary')"
      ]
     },
     "execution_count": 14,
     "metadata": {},
     "output_type": "execute_result"
    },
    {
     "data": {
      "image/png": "[encoded data removed]",
      "text/plain": [
       "<Figure size 640x480 with 1 Axes>"
      ]
     },
     "metadata": {},
     "output_type": "display_data"
    }
   ],
   "source": [
    "plt.scatter(data['YearsExperience'], data['Salary'], color = 'red')\n",
    "plt.plot(data['YearsExperience'], pred2, color = 'black')\n",
    "plt.xlabel('Years of Experience')\n",
    "plt.ylabel('Salary')"
   ]
  },
  {
   "cell_type": "markdown",
   "id": "b8ffeea2",
   "metadata": {},
   "source": [
    "### Exponential model\n",
    "y = e^(B0 + B1 * X)\n",
    "\n",
    "or\n",
    "\n",
    "log(y) = B0 + B1 * X"
   ]
  },
  {
   "cell_type": "code",
   "execution_count": 15,
   "id": "de64a305",
   "metadata": {
    "ExecuteTime": {
     "end_time": "2023-06-26T07:08:47.349929Z",
     "start_time": "2023-06-26T07:08:47.337960Z"
    }
   },
   "outputs": [],
   "source": [
    "model3 = smf.ols('np.log(Salary)~YearsExperience', data = data).fit()"
   ]
  },
  {
   "cell_type": "code",
   "execution_count": 16,
   "id": "3e18cb21",
   "metadata": {
    "ExecuteTime": {
     "end_time": "2023-06-26T07:08:47.380429Z",
     "start_time": "2023-06-26T07:08:47.351923Z"
    }
   },
   "outputs": [
    {
     "data": {
      "text/html": [
       "<table class=\"simpletable\">\n",
       "<caption>OLS Regression Results</caption>\n",
       "<tr>\n",
       "  <th>Dep. Variable:</th>     <td>np.log(Salary)</td>  <th>  R-squared:         </th> <td>   0.932</td>\n",
       "</tr>\n",
       "<tr>\n",
       "  <th>Model:</th>                   <td>OLS</td>       <th>  Adj. R-squared:    </th> <td>   0.930</td>\n",
       "</tr>\n",
       "<tr>\n",
       "  <th>Method:</th>             <td>Least Squares</td>  <th>  F-statistic:       </th> <td>   383.6</td>\n",
       "</tr>\n",
       "<tr>\n",
       "  <th>Date:</th>             <td>Mon, 26 Jun 2023</td> <th>  Prob (F-statistic):</th> <td>7.03e-18</td>\n",
       "</tr>\n",
       "<tr>\n",
       "  <th>Time:</th>                 <td>12:38:47</td>     <th>  Log-Likelihood:    </th> <td>  28.183</td>\n",
       "</tr>\n",
       "<tr>\n",
       "  <th>No. Observations:</th>      <td>    30</td>      <th>  AIC:               </th> <td>  -52.37</td>\n",
       "</tr>\n",
       "<tr>\n",
       "  <th>Df Residuals:</th>          <td>    28</td>      <th>  BIC:               </th> <td>  -49.56</td>\n",
       "</tr>\n",
       "<tr>\n",
       "  <th>Df Model:</th>              <td>     1</td>      <th>                     </th>     <td> </td>   \n",
       "</tr>\n",
       "<tr>\n",
       "  <th>Covariance Type:</th>      <td>nonrobust</td>    <th>                     </th>     <td> </td>   \n",
       "</tr>\n",
       "</table>\n",
       "<table class=\"simpletable\">\n",
       "<tr>\n",
       "         <td></td>            <th>coef</th>     <th>std err</th>      <th>t</th>      <th>P>|t|</th>  <th>[0.025</th>    <th>0.975]</th>  \n",
       "</tr>\n",
       "<tr>\n",
       "  <th>Intercept</th>       <td>   10.5074</td> <td>    0.038</td> <td>  273.327</td> <td> 0.000</td> <td>   10.429</td> <td>   10.586</td>\n",
       "</tr>\n",
       "<tr>\n",
       "  <th>YearsExperience</th> <td>    0.1255</td> <td>    0.006</td> <td>   19.585</td> <td> 0.000</td> <td>    0.112</td> <td>    0.139</td>\n",
       "</tr>\n",
       "</table>\n",
       "<table class=\"simpletable\">\n",
       "<tr>\n",
       "  <th>Omnibus:</th>       <td> 0.826</td> <th>  Durbin-Watson:     </th> <td>   1.438</td>\n",
       "</tr>\n",
       "<tr>\n",
       "  <th>Prob(Omnibus):</th> <td> 0.661</td> <th>  Jarque-Bera (JB):  </th> <td>   0.812</td>\n",
       "</tr>\n",
       "<tr>\n",
       "  <th>Skew:</th>          <td> 0.187</td> <th>  Prob(JB):          </th> <td>   0.666</td>\n",
       "</tr>\n",
       "<tr>\n",
       "  <th>Kurtosis:</th>      <td> 2.286</td> <th>  Cond. No.          </th> <td>    13.2</td>\n",
       "</tr>\n",
       "</table><br/><br/>Notes:<br/>[1] Standard Errors assume that the covariance matrix of the errors is correctly specified."
      ],
      "text/plain": [
       "<class 'statsmodels.iolib.summary.Summary'>\n",
       "\"\"\"\n",
       "                            OLS Regression Results                            \n",
       "==============================================================================\n",
       "Dep. Variable:         np.log(Salary)   R-squared:                       0.932\n",
       "Model:                            OLS   Adj. R-squared:                  0.930\n",
       "Method:                 Least Squares   F-statistic:                     383.6\n",
       "Date:                Mon, 26 Jun 2023   Prob (F-statistic):           7.03e-18\n",
       "Time:                        12:38:47   Log-Likelihood:                 28.183\n",
       "No. Observations:                  30   AIC:                            -52.37\n",
       "Df Residuals:                      28   BIC:                            -49.56\n",
       "Df Model:                           1                                         \n",
       "Covariance Type:            nonrobust                                         \n",
       "===================================================================================\n",
       "                      coef    std err          t      P>|t|      [0.025      0.975]\n",
       "-----------------------------------------------------------------------------------\n",
       "Intercept          10.5074      0.038    273.327      0.000      10.429      10.586\n",
       "YearsExperience     0.1255      0.006     19.585      0.000       0.112       0.139\n",
       "==============================================================================\n",
       "Omnibus:                        0.826   Durbin-Watson:                   1.438\n",
       "Prob(Omnibus):                  0.661   Jarque-Bera (JB):                0.812\n",
       "Skew:                           0.187   Prob(JB):                        0.666\n",
       "Kurtosis:                       2.286   Cond. No.                         13.2\n",
       "==============================================================================\n",
       "\n",
       "Notes:\n",
       "[1] Standard Errors assume that the covariance matrix of the errors is correctly specified.\n",
       "\"\"\""
      ]
     },
     "execution_count": 16,
     "metadata": {},
     "output_type": "execute_result"
    }
   ],
   "source": [
    "model3.summary()"
   ]
  },
  {
   "cell_type": "markdown",
   "id": "6631d033",
   "metadata": {},
   "source": [
    "-------------\n",
    "**Slightly decreased r-squared value of 0.932. Performance is slightly reduced from model 1**"
   ]
  },
  {
   "cell_type": "code",
   "execution_count": 17,
   "id": "c8a0c44f",
   "metadata": {
    "ExecuteTime": {
     "end_time": "2023-06-26T07:08:47.396396Z",
     "start_time": "2023-06-26T07:08:47.383429Z"
    }
   },
   "outputs": [
    {
     "data": {
      "text/plain": [
       "7213.235076620129"
      ]
     },
     "execution_count": 17,
     "metadata": {},
     "output_type": "execute_result"
    }
   ],
   "source": [
    "pred3 = model3.predict(data['YearsExperience'])\n",
    "rmse3 = np.sqrt(mean_squared_error(data['Salary'], np.exp(pred3)))\n",
    "rmse3"
   ]
  },
  {
   "cell_type": "code",
   "execution_count": 18,
   "id": "8d981199",
   "metadata": {
    "ExecuteTime": {
     "end_time": "2023-06-26T07:08:47.599197Z",
     "start_time": "2023-06-26T07:08:47.400391Z"
    }
   },
   "outputs": [
    {
     "data": {
      "text/plain": [
       "Text(0, 0.5, 'Salary')"
      ]
     },
     "execution_count": 18,
     "metadata": {},
     "output_type": "execute_result"
    },
    {
     "data": {
      "image/png": "[encoded data removed]",
      "text/plain": [
       "<Figure size 640x480 with 1 Axes>"
      ]
     },
     "metadata": {},
     "output_type": "display_data"
    }
   ],
   "source": [
    "plt.scatter(data['YearsExperience'], data['Salary'], color = 'red')\n",
    "plt.plot(data['YearsExperience'], np.exp(pred3), color = 'black')\n",
    "plt.xlabel('Years of Experience')\n",
    "plt.ylabel('Salary')"
   ]
  },
  {
   "cell_type": "markdown",
   "id": "adeded30",
   "metadata": {},
   "source": [
    "### Quadratic Log model"
   ]
  },
  {
   "cell_type": "markdown",
   "id": "13f72925",
   "metadata": {},
   "source": [
    "#### Adding a new column with the squared values of the YearsExperience column"
   ]
  },
  {
   "cell_type": "code",
   "execution_count": 19,
   "id": "d573931c",
   "metadata": {
    "ExecuteTime": {
     "end_time": "2023-06-26T07:08:47.630292Z",
     "start_time": "2023-06-26T07:08:47.602189Z"
    }
   },
   "outputs": [
    {
     "data": {
      "text/html": [
       "<div>\n",
       "<style scoped>\n",
       "    .dataframe tbody tr th:only-of-type {\n",
       "        vertical-align: middle;\n",
       "    }\n",
       "\n",
       "    .dataframe tbody tr th {\n",
       "        vertical-align: top;\n",
       "    }\n",
       "\n",
       "    .dataframe thead th {\n",
       "        text-align: right;\n",
       "    }\n",
       "</style>\n",
       "<table border=\"1\" class=\"dataframe\">\n",
       "  <thead>\n",
       "    <tr style=\"text-align: right;\">\n",
       "      <th></th>\n",
       "      <th>YearsExperience</th>\n",
       "      <th>Salary</th>\n",
       "      <th>YearsExperience_sq</th>\n",
       "    </tr>\n",
       "  </thead>\n",
       "  <tbody>\n",
       "    <tr>\n",
       "      <th>0</th>\n",
       "      <td>1.1</td>\n",
       "      <td>39343.0</td>\n",
       "      <td>1.21</td>\n",
       "    </tr>\n",
       "    <tr>\n",
       "      <th>1</th>\n",
       "      <td>1.3</td>\n",
       "      <td>46205.0</td>\n",
       "      <td>1.69</td>\n",
       "    </tr>\n",
       "    <tr>\n",
       "      <th>2</th>\n",
       "      <td>1.5</td>\n",
       "      <td>37731.0</td>\n",
       "      <td>2.25</td>\n",
       "    </tr>\n",
       "    <tr>\n",
       "      <th>3</th>\n",
       "      <td>2.0</td>\n",
       "      <td>43525.0</td>\n",
       "      <td>4.00</td>\n",
       "    </tr>\n",
       "    <tr>\n",
       "      <th>4</th>\n",
       "      <td>2.2</td>\n",
       "      <td>39891.0</td>\n",
       "      <td>4.84</td>\n",
       "    </tr>\n",
       "    <tr>\n",
       "      <th>5</th>\n",
       "      <td>2.9</td>\n",
       "      <td>56642.0</td>\n",
       "      <td>8.41</td>\n",
       "    </tr>\n",
       "    <tr>\n",
       "      <th>6</th>\n",
       "      <td>3.0</td>\n",
       "      <td>60150.0</td>\n",
       "      <td>9.00</td>\n",
       "    </tr>\n",
       "    <tr>\n",
       "      <th>7</th>\n",
       "      <td>3.2</td>\n",
       "      <td>54445.0</td>\n",
       "      <td>10.24</td>\n",
       "    </tr>\n",
       "    <tr>\n",
       "      <th>8</th>\n",
       "      <td>3.2</td>\n",
       "      <td>64445.0</td>\n",
       "      <td>10.24</td>\n",
       "    </tr>\n",
       "    <tr>\n",
       "      <th>9</th>\n",
       "      <td>3.7</td>\n",
       "      <td>57189.0</td>\n",
       "      <td>13.69</td>\n",
       "    </tr>\n",
       "    <tr>\n",
       "      <th>10</th>\n",
       "      <td>3.9</td>\n",
       "      <td>63218.0</td>\n",
       "      <td>15.21</td>\n",
       "    </tr>\n",
       "    <tr>\n",
       "      <th>11</th>\n",
       "      <td>4.0</td>\n",
       "      <td>55794.0</td>\n",
       "      <td>16.00</td>\n",
       "    </tr>\n",
       "    <tr>\n",
       "      <th>12</th>\n",
       "      <td>4.0</td>\n",
       "      <td>56957.0</td>\n",
       "      <td>16.00</td>\n",
       "    </tr>\n",
       "    <tr>\n",
       "      <th>13</th>\n",
       "      <td>4.1</td>\n",
       "      <td>57081.0</td>\n",
       "      <td>16.81</td>\n",
       "    </tr>\n",
       "    <tr>\n",
       "      <th>14</th>\n",
       "      <td>4.5</td>\n",
       "      <td>61111.0</td>\n",
       "      <td>20.25</td>\n",
       "    </tr>\n",
       "    <tr>\n",
       "      <th>15</th>\n",
       "      <td>4.9</td>\n",
       "      <td>67938.0</td>\n",
       "      <td>24.01</td>\n",
       "    </tr>\n",
       "    <tr>\n",
       "      <th>16</th>\n",
       "      <td>5.1</td>\n",
       "      <td>66029.0</td>\n",
       "      <td>26.01</td>\n",
       "    </tr>\n",
       "    <tr>\n",
       "      <th>17</th>\n",
       "      <td>5.3</td>\n",
       "      <td>83088.0</td>\n",
       "      <td>28.09</td>\n",
       "    </tr>\n",
       "    <tr>\n",
       "      <th>18</th>\n",
       "      <td>5.9</td>\n",
       "      <td>81363.0</td>\n",
       "      <td>34.81</td>\n",
       "    </tr>\n",
       "    <tr>\n",
       "      <th>19</th>\n",
       "      <td>6.0</td>\n",
       "      <td>93940.0</td>\n",
       "      <td>36.00</td>\n",
       "    </tr>\n",
       "    <tr>\n",
       "      <th>20</th>\n",
       "      <td>6.8</td>\n",
       "      <td>91738.0</td>\n",
       "      <td>46.24</td>\n",
       "    </tr>\n",
       "    <tr>\n",
       "      <th>21</th>\n",
       "      <td>7.1</td>\n",
       "      <td>98273.0</td>\n",
       "      <td>50.41</td>\n",
       "    </tr>\n",
       "    <tr>\n",
       "      <th>22</th>\n",
       "      <td>7.9</td>\n",
       "      <td>101302.0</td>\n",
       "      <td>62.41</td>\n",
       "    </tr>\n",
       "    <tr>\n",
       "      <th>23</th>\n",
       "      <td>8.2</td>\n",
       "      <td>113812.0</td>\n",
       "      <td>67.24</td>\n",
       "    </tr>\n",
       "    <tr>\n",
       "      <th>24</th>\n",
       "      <td>8.7</td>\n",
       "      <td>109431.0</td>\n",
       "      <td>75.69</td>\n",
       "    </tr>\n",
       "    <tr>\n",
       "      <th>25</th>\n",
       "      <td>9.0</td>\n",
       "      <td>105582.0</td>\n",
       "      <td>81.00</td>\n",
       "    </tr>\n",
       "    <tr>\n",
       "      <th>26</th>\n",
       "      <td>9.5</td>\n",
       "      <td>116969.0</td>\n",
       "      <td>90.25</td>\n",
       "    </tr>\n",
       "    <tr>\n",
       "      <th>27</th>\n",
       "      <td>9.6</td>\n",
       "      <td>112635.0</td>\n",
       "      <td>92.16</td>\n",
       "    </tr>\n",
       "    <tr>\n",
       "      <th>28</th>\n",
       "      <td>10.3</td>\n",
       "      <td>122391.0</td>\n",
       "      <td>106.09</td>\n",
       "    </tr>\n",
       "    <tr>\n",
       "      <th>29</th>\n",
       "      <td>10.5</td>\n",
       "      <td>121872.0</td>\n",
       "      <td>110.25</td>\n",
       "    </tr>\n",
       "  </tbody>\n",
       "</table>\n",
       "</div>"
      ],
      "text/plain": [
       "    YearsExperience    Salary  YearsExperience_sq\n",
       "0               1.1   39343.0                1.21\n",
       "1               1.3   46205.0                1.69\n",
       "2               1.5   37731.0                2.25\n",
       "3               2.0   43525.0                4.00\n",
       "4               2.2   39891.0                4.84\n",
       "5               2.9   56642.0                8.41\n",
       "6               3.0   60150.0                9.00\n",
       "7               3.2   54445.0               10.24\n",
       "8               3.2   64445.0               10.24\n",
       "9               3.7   57189.0               13.69\n",
       "10              3.9   63218.0               15.21\n",
       "11              4.0   55794.0               16.00\n",
       "12              4.0   56957.0               16.00\n",
       "13              4.1   57081.0               16.81\n",
       "14              4.5   61111.0               20.25\n",
       "15              4.9   67938.0               24.01\n",
       "16              5.1   66029.0               26.01\n",
       "17              5.3   83088.0               28.09\n",
       "18              5.9   81363.0               34.81\n",
       "19              6.0   93940.0               36.00\n",
       "20              6.8   91738.0               46.24\n",
       "21              7.1   98273.0               50.41\n",
       "22              7.9  101302.0               62.41\n",
       "23              8.2  113812.0               67.24\n",
       "24              8.7  109431.0               75.69\n",
       "25              9.0  105582.0               81.00\n",
       "26              9.5  116969.0               90.25\n",
       "27              9.6  112635.0               92.16\n",
       "28             10.3  122391.0              106.09\n",
       "29             10.5  121872.0              110.25"
      ]
     },
     "execution_count": 19,
     "metadata": {},
     "output_type": "execute_result"
    }
   ],
   "source": [
    "data['YearsExperience_sq'] = data.YearsExperience * data.YearsExperience\n",
    "data"
   ]
  },
  {
   "cell_type": "code",
   "execution_count": 20,
   "id": "f1c88e0e",
   "metadata": {
    "ExecuteTime": {
     "end_time": "2023-06-26T07:08:47.661306Z",
     "start_time": "2023-06-26T07:08:47.633322Z"
    }
   },
   "outputs": [],
   "source": [
    "model_quad = smf.ols('np.log(Salary)~YearsExperience+YearsExperience_sq', data = data).fit()"
   ]
  },
  {
   "cell_type": "code",
   "execution_count": 21,
   "id": "254174fc",
   "metadata": {
    "ExecuteTime": {
     "end_time": "2023-06-26T07:08:47.691789Z",
     "start_time": "2023-06-26T07:08:47.663311Z"
    }
   },
   "outputs": [
    {
     "data": {
      "text/html": [
       "<table class=\"simpletable\">\n",
       "<caption>OLS Regression Results</caption>\n",
       "<tr>\n",
       "  <th>Dep. Variable:</th>     <td>np.log(Salary)</td>  <th>  R-squared:         </th> <td>   0.949</td>\n",
       "</tr>\n",
       "<tr>\n",
       "  <th>Model:</th>                   <td>OLS</td>       <th>  Adj. R-squared:    </th> <td>   0.945</td>\n",
       "</tr>\n",
       "<tr>\n",
       "  <th>Method:</th>             <td>Least Squares</td>  <th>  F-statistic:       </th> <td>   249.2</td>\n",
       "</tr>\n",
       "<tr>\n",
       "  <th>Date:</th>             <td>Mon, 26 Jun 2023</td> <th>  Prob (F-statistic):</th> <td>3.95e-18</td>\n",
       "</tr>\n",
       "<tr>\n",
       "  <th>Time:</th>                 <td>12:38:47</td>     <th>  Log-Likelihood:    </th> <td>  32.391</td>\n",
       "</tr>\n",
       "<tr>\n",
       "  <th>No. Observations:</th>      <td>    30</td>      <th>  AIC:               </th> <td>  -58.78</td>\n",
       "</tr>\n",
       "<tr>\n",
       "  <th>Df Residuals:</th>          <td>    27</td>      <th>  BIC:               </th> <td>  -54.58</td>\n",
       "</tr>\n",
       "<tr>\n",
       "  <th>Df Model:</th>              <td>     2</td>      <th>                     </th>     <td> </td>   \n",
       "</tr>\n",
       "<tr>\n",
       "  <th>Covariance Type:</th>      <td>nonrobust</td>    <th>                     </th>     <td> </td>   \n",
       "</tr>\n",
       "</table>\n",
       "<table class=\"simpletable\">\n",
       "<tr>\n",
       "           <td></td>             <th>coef</th>     <th>std err</th>      <th>t</th>      <th>P>|t|</th>  <th>[0.025</th>    <th>0.975]</th>  \n",
       "</tr>\n",
       "<tr>\n",
       "  <th>Intercept</th>          <td>   10.3369</td> <td>    0.067</td> <td>  154.368</td> <td> 0.000</td> <td>   10.199</td> <td>   10.474</td>\n",
       "</tr>\n",
       "<tr>\n",
       "  <th>YearsExperience</th>    <td>    0.2024</td> <td>    0.027</td> <td>    7.601</td> <td> 0.000</td> <td>    0.148</td> <td>    0.257</td>\n",
       "</tr>\n",
       "<tr>\n",
       "  <th>YearsExperience_sq</th> <td>   -0.0066</td> <td>    0.002</td> <td>   -2.957</td> <td> 0.006</td> <td>   -0.011</td> <td>   -0.002</td>\n",
       "</tr>\n",
       "</table>\n",
       "<table class=\"simpletable\">\n",
       "<tr>\n",
       "  <th>Omnibus:</th>       <td> 1.099</td> <th>  Durbin-Watson:     </th> <td>   1.845</td>\n",
       "</tr>\n",
       "<tr>\n",
       "  <th>Prob(Omnibus):</th> <td> 0.577</td> <th>  Jarque-Bera (JB):  </th> <td>   1.002</td>\n",
       "</tr>\n",
       "<tr>\n",
       "  <th>Skew:</th>          <td> 0.260</td> <th>  Prob(JB):          </th> <td>   0.606</td>\n",
       "</tr>\n",
       "<tr>\n",
       "  <th>Kurtosis:</th>      <td> 2.271</td> <th>  Cond. No.          </th> <td>    223.</td>\n",
       "</tr>\n",
       "</table><br/><br/>Notes:<br/>[1] Standard Errors assume that the covariance matrix of the errors is correctly specified."
      ],
      "text/plain": [
       "<class 'statsmodels.iolib.summary.Summary'>\n",
       "\"\"\"\n",
       "                            OLS Regression Results                            \n",
       "==============================================================================\n",
       "Dep. Variable:         np.log(Salary)   R-squared:                       0.949\n",
       "Model:                            OLS   Adj. R-squared:                  0.945\n",
       "Method:                 Least Squares   F-statistic:                     249.2\n",
       "Date:                Mon, 26 Jun 2023   Prob (F-statistic):           3.95e-18\n",
       "Time:                        12:38:47   Log-Likelihood:                 32.391\n",
       "No. Observations:                  30   AIC:                            -58.78\n",
       "Df Residuals:                      27   BIC:                            -54.58\n",
       "Df Model:                           2                                         \n",
       "Covariance Type:            nonrobust                                         \n",
       "======================================================================================\n",
       "                         coef    std err          t      P>|t|      [0.025      0.975]\n",
       "--------------------------------------------------------------------------------------\n",
       "Intercept             10.3369      0.067    154.368      0.000      10.199      10.474\n",
       "YearsExperience        0.2024      0.027      7.601      0.000       0.148       0.257\n",
       "YearsExperience_sq    -0.0066      0.002     -2.957      0.006      -0.011      -0.002\n",
       "==============================================================================\n",
       "Omnibus:                        1.099   Durbin-Watson:                   1.845\n",
       "Prob(Omnibus):                  0.577   Jarque-Bera (JB):                1.002\n",
       "Skew:                           0.260   Prob(JB):                        0.606\n",
       "Kurtosis:                       2.271   Cond. No.                         223.\n",
       "==============================================================================\n",
       "\n",
       "Notes:\n",
       "[1] Standard Errors assume that the covariance matrix of the errors is correctly specified.\n",
       "\"\"\""
      ]
     },
     "execution_count": 21,
     "metadata": {},
     "output_type": "execute_result"
    }
   ],
   "source": [
    "model_quad.summary()"
   ]
  },
  {
   "cell_type": "markdown",
   "id": "552667ba",
   "metadata": {},
   "source": [
    "------------------\n",
    "**Almost same performance as the model 1. R-squared value is 0.949**"
   ]
  },
  {
   "cell_type": "code",
   "execution_count": 22,
   "id": "1a76a46c",
   "metadata": {
    "ExecuteTime": {
     "end_time": "2023-06-26T07:08:47.707749Z",
     "start_time": "2023-06-26T07:08:47.693788Z"
    }
   },
   "outputs": [
    {
     "data": {
      "text/plain": [
       "5391.081582693624"
      ]
     },
     "execution_count": 22,
     "metadata": {},
     "output_type": "execute_result"
    }
   ],
   "source": [
    "pred4 = np.exp(model_quad.predict(data))\n",
    "rmse4 = np.sqrt(mean_squared_error(data['Salary'], pred4))\n",
    "rmse4"
   ]
  },
  {
   "cell_type": "code",
   "execution_count": 23,
   "id": "6e3e275e",
   "metadata": {
    "ExecuteTime": {
     "end_time": "2023-06-26T07:08:47.895281Z",
     "start_time": "2023-06-26T07:08:47.710744Z"
    }
   },
   "outputs": [
    {
     "data": {
      "text/plain": [
       "Text(0, 0.5, 'Salary')"
      ]
     },
     "execution_count": 23,
     "metadata": {},
     "output_type": "execute_result"
    },
    {
     "data": {
      "image/png": "[encoded data removed]",
      "text/plain": [
       "<Figure size 640x480 with 1 Axes>"
      ]
     },
     "metadata": {},
     "output_type": "display_data"
    }
   ],
   "source": [
    "plt.scatter(data['YearsExperience'], data['Salary'], color = 'red')\n",
    "plt.plot(data['YearsExperience'], pred4, color = 'black')\n",
    "plt.xlabel('Years of Experience')\n",
    "plt.ylabel('Salary')"
   ]
  },
  {
   "cell_type": "code",
   "execution_count": 24,
   "id": "3cbc372b",
   "metadata": {
    "ExecuteTime": {
     "end_time": "2023-06-26T07:08:48.097773Z",
     "start_time": "2023-06-26T07:08:47.898273Z"
    }
   },
   "outputs": [
    {
     "data": {
      "text/plain": [
       "(array([1., 3., 3., 5., 3., 7., 1., 2., 2., 3.]),\n",
       " array([-1.80253896, -1.44129045, -1.08004195, -0.71879344, -0.35754493,\n",
       "         0.00370357,  0.36495208,  0.72620059,  1.08744909,  1.4486976 ,\n",
       "         1.8099461 ]),\n",
       " <BarContainer object of 10 artists>)"
      ]
     },
     "execution_count": 24,
     "metadata": {},
     "output_type": "execute_result"
    },
    {
     "data": {
      "image/png": "[encoded data removed]",
      "text/plain": [
       "<Figure size 640x480 with 1 Axes>"
      ]
     },
     "metadata": {},
     "output_type": "display_data"
    }
   ],
   "source": [
    "plt.hist(model_quad.resid_pearson)"
   ]
  },
  {
   "cell_type": "code",
   "execution_count": 25,
   "id": "71126211",
   "metadata": {
    "ExecuteTime": {
     "end_time": "2023-06-26T07:08:48.301243Z",
     "start_time": "2023-06-26T07:08:48.100732Z"
    }
   },
   "outputs": [
    {
     "data": {
      "text/plain": [
       "(array([2., 1., 4., 6., 3., 3., 5., 2., 1., 3.]),\n",
       " array([-1.9356925 , -1.5477367 , -1.15978089, -0.77182509, -0.38386929,\n",
       "         0.00408651,  0.39204231,  0.77999811,  1.16795392,  1.55590972,\n",
       "         1.94386552]),\n",
       " <BarContainer object of 10 artists>)"
      ]
     },
     "execution_count": 25,
     "metadata": {},
     "output_type": "execute_result"
    },
    {
     "data": {
      "image/png": "[encoded data removed]",
      "text/plain": [
       "<Figure size 640x480 with 1 Axes>"
      ]
     },
     "metadata": {},
     "output_type": "display_data"
    }
   ],
   "source": [
    "plt.hist(model3.resid_pearson)"
   ]
  },
  {
   "cell_type": "code",
   "execution_count": 26,
   "id": "42956afb",
   "metadata": {
    "ExecuteTime": {
     "end_time": "2023-06-26T07:08:48.317184Z",
     "start_time": "2023-06-26T07:08:48.303216Z"
    }
   },
   "outputs": [
    {
     "data": {
      "text/plain": [
       "2.87214696470528e-14"
      ]
     },
     "execution_count": 26,
     "metadata": {},
     "output_type": "execute_result"
    }
   ],
   "source": [
    "np.mean(model_quad.resid_pearson)"
   ]
  },
  {
   "cell_type": "code",
   "execution_count": 27,
   "id": "a741ce40",
   "metadata": {
    "ExecuteTime": {
     "end_time": "2023-06-26T07:08:48.520156Z",
     "start_time": "2023-06-26T07:08:48.319147Z"
    }
   },
   "outputs": [
    {
     "data": {
      "text/plain": [
       "(array([6., 2., 4., 3., 6., 2., 1., 2., 2., 2.]),\n",
       " array([-1.37484017, -1.03957794, -0.70431572, -0.36905349, -0.03379126,\n",
       "         0.30147096,  0.63673319,  0.97199542,  1.30725764,  1.64251987,\n",
       "         1.9777821 ]),\n",
       " <BarContainer object of 10 artists>)"
      ]
     },
     "execution_count": 27,
     "metadata": {},
     "output_type": "execute_result"
    },
    {
     "data": {
      "image/png": "[encoded data removed]",
      "text/plain": [
       "<Figure size 640x480 with 1 Axes>"
      ]
     },
     "metadata": {},
     "output_type": "display_data"
    }
   ],
   "source": [
    "plt.hist(model.resid_pearson)"
   ]
  },
  {
   "cell_type": "code",
   "execution_count": 28,
   "id": "42940494",
   "metadata": {
    "ExecuteTime": {
     "end_time": "2023-06-26T07:08:48.552042Z",
     "start_time": "2023-06-26T07:08:48.530148Z"
    }
   },
   "outputs": [
    {
     "data": {
      "text/plain": [
       "-2.5831189039611974e-15"
      ]
     },
     "execution_count": 28,
     "metadata": {},
     "output_type": "execute_result"
    }
   ],
   "source": [
    "np.mean(model.resid_pearson)"
   ]
  },
  {
   "cell_type": "markdown",
   "id": "8c6f4a04",
   "metadata": {},
   "source": [
    "### Sqrt log model"
   ]
  },
  {
   "cell_type": "code",
   "execution_count": 29,
   "id": "346ef4f0",
   "metadata": {
    "ExecuteTime": {
     "end_time": "2023-06-26T07:09:05.858750Z",
     "start_time": "2023-06-26T07:09:05.825838Z"
    }
   },
   "outputs": [
    {
     "data": {
      "text/html": [
       "<div>\n",
       "<style scoped>\n",
       "    .dataframe tbody tr th:only-of-type {\n",
       "        vertical-align: middle;\n",
       "    }\n",
       "\n",
       "    .dataframe tbody tr th {\n",
       "        vertical-align: top;\n",
       "    }\n",
       "\n",
       "    .dataframe thead th {\n",
       "        text-align: right;\n",
       "    }\n",
       "</style>\n",
       "<table border=\"1\" class=\"dataframe\">\n",
       "  <thead>\n",
       "    <tr style=\"text-align: right;\">\n",
       "      <th></th>\n",
       "      <th>YearsExperience</th>\n",
       "      <th>Salary</th>\n",
       "      <th>YearsExperience_sq</th>\n",
       "      <th>YearsExperience_sqrt</th>\n",
       "    </tr>\n",
       "  </thead>\n",
       "  <tbody>\n",
       "    <tr>\n",
       "      <th>0</th>\n",
       "      <td>1.1</td>\n",
       "      <td>39343.0</td>\n",
       "      <td>1.21</td>\n",
       "      <td>1.048809</td>\n",
       "    </tr>\n",
       "    <tr>\n",
       "      <th>1</th>\n",
       "      <td>1.3</td>\n",
       "      <td>46205.0</td>\n",
       "      <td>1.69</td>\n",
       "      <td>1.140175</td>\n",
       "    </tr>\n",
       "    <tr>\n",
       "      <th>2</th>\n",
       "      <td>1.5</td>\n",
       "      <td>37731.0</td>\n",
       "      <td>2.25</td>\n",
       "      <td>1.224745</td>\n",
       "    </tr>\n",
       "    <tr>\n",
       "      <th>3</th>\n",
       "      <td>2.0</td>\n",
       "      <td>43525.0</td>\n",
       "      <td>4.00</td>\n",
       "      <td>1.414214</td>\n",
       "    </tr>\n",
       "    <tr>\n",
       "      <th>4</th>\n",
       "      <td>2.2</td>\n",
       "      <td>39891.0</td>\n",
       "      <td>4.84</td>\n",
       "      <td>1.483240</td>\n",
       "    </tr>\n",
       "    <tr>\n",
       "      <th>5</th>\n",
       "      <td>2.9</td>\n",
       "      <td>56642.0</td>\n",
       "      <td>8.41</td>\n",
       "      <td>1.702939</td>\n",
       "    </tr>\n",
       "    <tr>\n",
       "      <th>6</th>\n",
       "      <td>3.0</td>\n",
       "      <td>60150.0</td>\n",
       "      <td>9.00</td>\n",
       "      <td>1.732051</td>\n",
       "    </tr>\n",
       "    <tr>\n",
       "      <th>7</th>\n",
       "      <td>3.2</td>\n",
       "      <td>54445.0</td>\n",
       "      <td>10.24</td>\n",
       "      <td>1.788854</td>\n",
       "    </tr>\n",
       "    <tr>\n",
       "      <th>8</th>\n",
       "      <td>3.2</td>\n",
       "      <td>64445.0</td>\n",
       "      <td>10.24</td>\n",
       "      <td>1.788854</td>\n",
       "    </tr>\n",
       "    <tr>\n",
       "      <th>9</th>\n",
       "      <td>3.7</td>\n",
       "      <td>57189.0</td>\n",
       "      <td>13.69</td>\n",
       "      <td>1.923538</td>\n",
       "    </tr>\n",
       "    <tr>\n",
       "      <th>10</th>\n",
       "      <td>3.9</td>\n",
       "      <td>63218.0</td>\n",
       "      <td>15.21</td>\n",
       "      <td>1.974842</td>\n",
       "    </tr>\n",
       "    <tr>\n",
       "      <th>11</th>\n",
       "      <td>4.0</td>\n",
       "      <td>55794.0</td>\n",
       "      <td>16.00</td>\n",
       "      <td>2.000000</td>\n",
       "    </tr>\n",
       "    <tr>\n",
       "      <th>12</th>\n",
       "      <td>4.0</td>\n",
       "      <td>56957.0</td>\n",
       "      <td>16.00</td>\n",
       "      <td>2.000000</td>\n",
       "    </tr>\n",
       "    <tr>\n",
       "      <th>13</th>\n",
       "      <td>4.1</td>\n",
       "      <td>57081.0</td>\n",
       "      <td>16.81</td>\n",
       "      <td>2.024846</td>\n",
       "    </tr>\n",
       "    <tr>\n",
       "      <th>14</th>\n",
       "      <td>4.5</td>\n",
       "      <td>61111.0</td>\n",
       "      <td>20.25</td>\n",
       "      <td>2.121320</td>\n",
       "    </tr>\n",
       "    <tr>\n",
       "      <th>15</th>\n",
       "      <td>4.9</td>\n",
       "      <td>67938.0</td>\n",
       "      <td>24.01</td>\n",
       "      <td>2.213594</td>\n",
       "    </tr>\n",
       "    <tr>\n",
       "      <th>16</th>\n",
       "      <td>5.1</td>\n",
       "      <td>66029.0</td>\n",
       "      <td>26.01</td>\n",
       "      <td>2.258318</td>\n",
       "    </tr>\n",
       "    <tr>\n",
       "      <th>17</th>\n",
       "      <td>5.3</td>\n",
       "      <td>83088.0</td>\n",
       "      <td>28.09</td>\n",
       "      <td>2.302173</td>\n",
       "    </tr>\n",
       "    <tr>\n",
       "      <th>18</th>\n",
       "      <td>5.9</td>\n",
       "      <td>81363.0</td>\n",
       "      <td>34.81</td>\n",
       "      <td>2.428992</td>\n",
       "    </tr>\n",
       "    <tr>\n",
       "      <th>19</th>\n",
       "      <td>6.0</td>\n",
       "      <td>93940.0</td>\n",
       "      <td>36.00</td>\n",
       "      <td>2.449490</td>\n",
       "    </tr>\n",
       "    <tr>\n",
       "      <th>20</th>\n",
       "      <td>6.8</td>\n",
       "      <td>91738.0</td>\n",
       "      <td>46.24</td>\n",
       "      <td>2.607681</td>\n",
       "    </tr>\n",
       "    <tr>\n",
       "      <th>21</th>\n",
       "      <td>7.1</td>\n",
       "      <td>98273.0</td>\n",
       "      <td>50.41</td>\n",
       "      <td>2.664583</td>\n",
       "    </tr>\n",
       "    <tr>\n",
       "      <th>22</th>\n",
       "      <td>7.9</td>\n",
       "      <td>101302.0</td>\n",
       "      <td>62.41</td>\n",
       "      <td>2.810694</td>\n",
       "    </tr>\n",
       "    <tr>\n",
       "      <th>23</th>\n",
       "      <td>8.2</td>\n",
       "      <td>113812.0</td>\n",
       "      <td>67.24</td>\n",
       "      <td>2.863564</td>\n",
       "    </tr>\n",
       "    <tr>\n",
       "      <th>24</th>\n",
       "      <td>8.7</td>\n",
       "      <td>109431.0</td>\n",
       "      <td>75.69</td>\n",
       "      <td>2.949576</td>\n",
       "    </tr>\n",
       "    <tr>\n",
       "      <th>25</th>\n",
       "      <td>9.0</td>\n",
       "      <td>105582.0</td>\n",
       "      <td>81.00</td>\n",
       "      <td>3.000000</td>\n",
       "    </tr>\n",
       "    <tr>\n",
       "      <th>26</th>\n",
       "      <td>9.5</td>\n",
       "      <td>116969.0</td>\n",
       "      <td>90.25</td>\n",
       "      <td>3.082207</td>\n",
       "    </tr>\n",
       "    <tr>\n",
       "      <th>27</th>\n",
       "      <td>9.6</td>\n",
       "      <td>112635.0</td>\n",
       "      <td>92.16</td>\n",
       "      <td>3.098387</td>\n",
       "    </tr>\n",
       "    <tr>\n",
       "      <th>28</th>\n",
       "      <td>10.3</td>\n",
       "      <td>122391.0</td>\n",
       "      <td>106.09</td>\n",
       "      <td>3.209361</td>\n",
       "    </tr>\n",
       "    <tr>\n",
       "      <th>29</th>\n",
       "      <td>10.5</td>\n",
       "      <td>121872.0</td>\n",
       "      <td>110.25</td>\n",
       "      <td>3.240370</td>\n",
       "    </tr>\n",
       "  </tbody>\n",
       "</table>\n",
       "</div>"
      ],
      "text/plain": [
       "    YearsExperience    Salary  YearsExperience_sq  YearsExperience_sqrt\n",
       "0               1.1   39343.0                1.21              1.048809\n",
       "1               1.3   46205.0                1.69              1.140175\n",
       "2               1.5   37731.0                2.25              1.224745\n",
       "3               2.0   43525.0                4.00              1.414214\n",
       "4               2.2   39891.0                4.84              1.483240\n",
       "5               2.9   56642.0                8.41              1.702939\n",
       "6               3.0   60150.0                9.00              1.732051\n",
       "7               3.2   54445.0               10.24              1.788854\n",
       "8               3.2   64445.0               10.24              1.788854\n",
       "9               3.7   57189.0               13.69              1.923538\n",
       "10              3.9   63218.0               15.21              1.974842\n",
       "11              4.0   55794.0               16.00              2.000000\n",
       "12              4.0   56957.0               16.00              2.000000\n",
       "13              4.1   57081.0               16.81              2.024846\n",
       "14              4.5   61111.0               20.25              2.121320\n",
       "15              4.9   67938.0               24.01              2.213594\n",
       "16              5.1   66029.0               26.01              2.258318\n",
       "17              5.3   83088.0               28.09              2.302173\n",
       "18              5.9   81363.0               34.81              2.428992\n",
       "19              6.0   93940.0               36.00              2.449490\n",
       "20              6.8   91738.0               46.24              2.607681\n",
       "21              7.1   98273.0               50.41              2.664583\n",
       "22              7.9  101302.0               62.41              2.810694\n",
       "23              8.2  113812.0               67.24              2.863564\n",
       "24              8.7  109431.0               75.69              2.949576\n",
       "25              9.0  105582.0               81.00              3.000000\n",
       "26              9.5  116969.0               90.25              3.082207\n",
       "27              9.6  112635.0               92.16              3.098387\n",
       "28             10.3  122391.0              106.09              3.209361\n",
       "29             10.5  121872.0              110.25              3.240370"
      ]
     },
     "execution_count": 29,
     "metadata": {},
     "output_type": "execute_result"
    }
   ],
   "source": [
    "data['YearsExperience_sqrt'] = np.sqrt(data.YearsExperience)\n",
    "data"
   ]
  },
  {
   "cell_type": "code",
   "execution_count": 30,
   "id": "428fd079",
   "metadata": {
    "ExecuteTime": {
     "end_time": "2023-06-26T07:09:55.828690Z",
     "start_time": "2023-06-26T07:09:55.810006Z"
    }
   },
   "outputs": [],
   "source": [
    "model_sqrt = smf.ols('np.log(Salary)~YearsExperience+YearsExperience_sqrt', data = data).fit()"
   ]
  },
  {
   "cell_type": "code",
   "execution_count": 31,
   "id": "1ee1e1e1",
   "metadata": {
    "ExecuteTime": {
     "end_time": "2023-06-26T07:09:56.994903Z",
     "start_time": "2023-06-26T07:09:56.963985Z"
    }
   },
   "outputs": [
    {
     "data": {
      "text/html": [
       "<table class=\"simpletable\">\n",
       "<caption>OLS Regression Results</caption>\n",
       "<tr>\n",
       "  <th>Dep. Variable:</th>     <td>np.log(Salary)</td>  <th>  R-squared:         </th> <td>   0.944</td>\n",
       "</tr>\n",
       "<tr>\n",
       "  <th>Model:</th>                   <td>OLS</td>       <th>  Adj. R-squared:    </th> <td>   0.940</td>\n",
       "</tr>\n",
       "<tr>\n",
       "  <th>Method:</th>             <td>Least Squares</td>  <th>  F-statistic:       </th> <td>   228.2</td>\n",
       "</tr>\n",
       "<tr>\n",
       "  <th>Date:</th>             <td>Mon, 26 Jun 2023</td> <th>  Prob (F-statistic):</th> <td>1.22e-17</td>\n",
       "</tr>\n",
       "<tr>\n",
       "  <th>Time:</th>                 <td>12:39:56</td>     <th>  Log-Likelihood:    </th> <td>  31.141</td>\n",
       "</tr>\n",
       "<tr>\n",
       "  <th>No. Observations:</th>      <td>    30</td>      <th>  AIC:               </th> <td>  -56.28</td>\n",
       "</tr>\n",
       "<tr>\n",
       "  <th>Df Residuals:</th>          <td>    27</td>      <th>  BIC:               </th> <td>  -52.08</td>\n",
       "</tr>\n",
       "<tr>\n",
       "  <th>Df Model:</th>              <td>     2</td>      <th>                     </th>     <td> </td>   \n",
       "</tr>\n",
       "<tr>\n",
       "  <th>Covariance Type:</th>      <td>nonrobust</td>    <th>                     </th>     <td> </td>   \n",
       "</tr>\n",
       "</table>\n",
       "<table class=\"simpletable\">\n",
       "<tr>\n",
       "            <td></td>              <th>coef</th>     <th>std err</th>      <th>t</th>      <th>P>|t|</th>  <th>[0.025</th>    <th>0.975]</th>  \n",
       "</tr>\n",
       "<tr>\n",
       "  <th>Intercept</th>            <td>   10.0415</td> <td>    0.195</td> <td>   51.422</td> <td> 0.000</td> <td>    9.641</td> <td>   10.442</td>\n",
       "</tr>\n",
       "<tr>\n",
       "  <th>YearsExperience</th>      <td>    0.0256</td> <td>    0.042</td> <td>    0.615</td> <td> 0.544</td> <td>   -0.060</td> <td>    0.111</td>\n",
       "</tr>\n",
       "<tr>\n",
       "  <th>YearsExperience_sqrt</th> <td>    0.4493</td> <td>    0.185</td> <td>    2.426</td> <td> 0.022</td> <td>    0.069</td> <td>    0.829</td>\n",
       "</tr>\n",
       "</table>\n",
       "<table class=\"simpletable\">\n",
       "<tr>\n",
       "  <th>Omnibus:</th>       <td> 1.446</td> <th>  Durbin-Watson:     </th> <td>   1.691</td>\n",
       "</tr>\n",
       "<tr>\n",
       "  <th>Prob(Omnibus):</th> <td> 0.485</td> <th>  Jarque-Bera (JB):  </th> <td>   1.102</td>\n",
       "</tr>\n",
       "<tr>\n",
       "  <th>Skew:</th>          <td> 0.222</td> <th>  Prob(JB):          </th> <td>   0.576</td>\n",
       "</tr>\n",
       "<tr>\n",
       "  <th>Kurtosis:</th>      <td> 2.172</td> <th>  Cond. No.          </th> <td>    106.</td>\n",
       "</tr>\n",
       "</table><br/><br/>Notes:<br/>[1] Standard Errors assume that the covariance matrix of the errors is correctly specified."
      ],
      "text/plain": [
       "<class 'statsmodels.iolib.summary.Summary'>\n",
       "\"\"\"\n",
       "                            OLS Regression Results                            \n",
       "==============================================================================\n",
       "Dep. Variable:         np.log(Salary)   R-squared:                       0.944\n",
       "Model:                            OLS   Adj. R-squared:                  0.940\n",
       "Method:                 Least Squares   F-statistic:                     228.2\n",
       "Date:                Mon, 26 Jun 2023   Prob (F-statistic):           1.22e-17\n",
       "Time:                        12:39:56   Log-Likelihood:                 31.141\n",
       "No. Observations:                  30   AIC:                            -56.28\n",
       "Df Residuals:                      27   BIC:                            -52.08\n",
       "Df Model:                           2                                         \n",
       "Covariance Type:            nonrobust                                         \n",
       "========================================================================================\n",
       "                           coef    std err          t      P>|t|      [0.025      0.975]\n",
       "----------------------------------------------------------------------------------------\n",
       "Intercept               10.0415      0.195     51.422      0.000       9.641      10.442\n",
       "YearsExperience          0.0256      0.042      0.615      0.544      -0.060       0.111\n",
       "YearsExperience_sqrt     0.4493      0.185      2.426      0.022       0.069       0.829\n",
       "==============================================================================\n",
       "Omnibus:                        1.446   Durbin-Watson:                   1.691\n",
       "Prob(Omnibus):                  0.485   Jarque-Bera (JB):                1.102\n",
       "Skew:                           0.222   Prob(JB):                        0.576\n",
       "Kurtosis:                       2.172   Cond. No.                         106.\n",
       "==============================================================================\n",
       "\n",
       "Notes:\n",
       "[1] Standard Errors assume that the covariance matrix of the errors is correctly specified.\n",
       "\"\"\""
      ]
     },
     "execution_count": 31,
     "metadata": {},
     "output_type": "execute_result"
    }
   ],
   "source": [
    "model_sqrt.summary()"
   ]
  },
  {
   "cell_type": "markdown",
   "id": "31b665f7",
   "metadata": {},
   "source": [
    "------------------\n",
    "**This model has crossed the target r-squared value. The new value is 0.944**"
   ]
  },
  {
   "cell_type": "code",
   "execution_count": 32,
   "id": "34e60035",
   "metadata": {
    "ExecuteTime": {
     "end_time": "2023-06-26T07:10:27.682491Z",
     "start_time": "2023-06-26T07:10:27.658534Z"
    }
   },
   "outputs": [
    {
     "data": {
      "text/plain": [
       "5880.644517070903"
      ]
     },
     "execution_count": 32,
     "metadata": {},
     "output_type": "execute_result"
    }
   ],
   "source": [
    "pred5 = np.exp(model_sqrt.predict(data))\n",
    "rmse5 = np.sqrt(mean_squared_error(data['Salary'], pred5))\n",
    "rmse5"
   ]
  },
  {
   "cell_type": "code",
   "execution_count": 34,
   "id": "26ac114a",
   "metadata": {
    "ExecuteTime": {
     "end_time": "2023-06-26T07:11:05.145266Z",
     "start_time": "2023-06-26T07:11:04.954962Z"
    }
   },
   "outputs": [
    {
     "data": {
      "text/plain": [
       "Text(0, 0.5, 'Salary')"
      ]
     },
     "execution_count": 34,
     "metadata": {},
     "output_type": "execute_result"
    },
    {
     "data": {
      "image/png": "[encoded data removed]",
      "text/plain": [
       "<Figure size 640x480 with 1 Axes>"
      ]
     },
     "metadata": {},
     "output_type": "display_data"
    }
   ],
   "source": [
    "plt.scatter(data['YearsExperience'], data['Salary'], color = 'red')\n",
    "plt.plot(data['YearsExperience'], pred5, color = 'black')\n",
    "plt.xlabel('Years of Experience')\n",
    "plt.ylabel('Salary')"
   ]
  },
  {
   "cell_type": "code",
   "execution_count": 35,
   "id": "856a5385",
   "metadata": {
    "ExecuteTime": {
     "end_time": "2023-06-26T07:11:08.969590Z",
     "start_time": "2023-06-26T07:11:08.778889Z"
    }
   },
   "outputs": [
    {
     "data": {
      "text/plain": [
       "(array([1., 1., 5., 5., 3., 4., 3., 2., 3., 3.]),\n",
       " array([-1.88463719, -1.52459282, -1.16454845, -0.80450409, -0.44445972,\n",
       "        -0.08441535,  0.27562902,  0.63567339,  0.99571776,  1.35576213,\n",
       "         1.71580649]),\n",
       " <BarContainer object of 10 artists>)"
      ]
     },
     "execution_count": 35,
     "metadata": {},
     "output_type": "execute_result"
    },
    {
     "data": {
      "image/png": "[encoded data removed]",
      "text/plain": [
       "<Figure size 640x480 with 1 Axes>"
      ]
     },
     "metadata": {},
     "output_type": "display_data"
    }
   ],
   "source": [
    "plt.hist(model_sqrt.resid_pearson)"
   ]
  },
  {
   "cell_type": "code",
   "execution_count": 36,
   "id": "cd57156e",
   "metadata": {
    "ExecuteTime": {
     "end_time": "2023-06-26T07:11:11.256923Z",
     "start_time": "2023-06-26T07:11:11.241959Z"
    }
   },
   "outputs": [
    {
     "data": {
      "text/plain": [
       "2.4935609133081015e-14"
      ]
     },
     "execution_count": 36,
     "metadata": {},
     "output_type": "execute_result"
    }
   ],
   "source": [
    "np.mean(model_sqrt.resid_pearson)"
   ]
  },
  {
   "cell_type": "markdown",
   "id": "8a554a73",
   "metadata": {},
   "source": [
    "### Cbrt log model"
   ]
  },
  {
   "cell_type": "code",
   "execution_count": 37,
   "id": "3342b171",
   "metadata": {
    "ExecuteTime": {
     "end_time": "2023-06-26T07:11:43.454689Z",
     "start_time": "2023-06-26T07:11:43.418782Z"
    }
   },
   "outputs": [
    {
     "data": {
      "text/html": [
       "<div>\n",
       "<style scoped>\n",
       "    .dataframe tbody tr th:only-of-type {\n",
       "        vertical-align: middle;\n",
       "    }\n",
       "\n",
       "    .dataframe tbody tr th {\n",
       "        vertical-align: top;\n",
       "    }\n",
       "\n",
       "    .dataframe thead th {\n",
       "        text-align: right;\n",
       "    }\n",
       "</style>\n",
       "<table border=\"1\" class=\"dataframe\">\n",
       "  <thead>\n",
       "    <tr style=\"text-align: right;\">\n",
       "      <th></th>\n",
       "      <th>YearsExperience</th>\n",
       "      <th>Salary</th>\n",
       "      <th>YearsExperience_sq</th>\n",
       "      <th>YearsExperience_sqrt</th>\n",
       "      <th>YearsExperience_cbrt</th>\n",
       "    </tr>\n",
       "  </thead>\n",
       "  <tbody>\n",
       "    <tr>\n",
       "      <th>0</th>\n",
       "      <td>1.1</td>\n",
       "      <td>39343.0</td>\n",
       "      <td>1.21</td>\n",
       "      <td>1.048809</td>\n",
       "      <td>1.032280</td>\n",
       "    </tr>\n",
       "    <tr>\n",
       "      <th>1</th>\n",
       "      <td>1.3</td>\n",
       "      <td>46205.0</td>\n",
       "      <td>1.69</td>\n",
       "      <td>1.140175</td>\n",
       "      <td>1.091393</td>\n",
       "    </tr>\n",
       "    <tr>\n",
       "      <th>2</th>\n",
       "      <td>1.5</td>\n",
       "      <td>37731.0</td>\n",
       "      <td>2.25</td>\n",
       "      <td>1.224745</td>\n",
       "      <td>1.144714</td>\n",
       "    </tr>\n",
       "    <tr>\n",
       "      <th>3</th>\n",
       "      <td>2.0</td>\n",
       "      <td>43525.0</td>\n",
       "      <td>4.00</td>\n",
       "      <td>1.414214</td>\n",
       "      <td>1.259921</td>\n",
       "    </tr>\n",
       "    <tr>\n",
       "      <th>4</th>\n",
       "      <td>2.2</td>\n",
       "      <td>39891.0</td>\n",
       "      <td>4.84</td>\n",
       "      <td>1.483240</td>\n",
       "      <td>1.300591</td>\n",
       "    </tr>\n",
       "    <tr>\n",
       "      <th>5</th>\n",
       "      <td>2.9</td>\n",
       "      <td>56642.0</td>\n",
       "      <td>8.41</td>\n",
       "      <td>1.702939</td>\n",
       "      <td>1.426043</td>\n",
       "    </tr>\n",
       "    <tr>\n",
       "      <th>6</th>\n",
       "      <td>3.0</td>\n",
       "      <td>60150.0</td>\n",
       "      <td>9.00</td>\n",
       "      <td>1.732051</td>\n",
       "      <td>1.442250</td>\n",
       "    </tr>\n",
       "    <tr>\n",
       "      <th>7</th>\n",
       "      <td>3.2</td>\n",
       "      <td>54445.0</td>\n",
       "      <td>10.24</td>\n",
       "      <td>1.788854</td>\n",
       "      <td>1.473613</td>\n",
       "    </tr>\n",
       "    <tr>\n",
       "      <th>8</th>\n",
       "      <td>3.2</td>\n",
       "      <td>64445.0</td>\n",
       "      <td>10.24</td>\n",
       "      <td>1.788854</td>\n",
       "      <td>1.473613</td>\n",
       "    </tr>\n",
       "    <tr>\n",
       "      <th>9</th>\n",
       "      <td>3.7</td>\n",
       "      <td>57189.0</td>\n",
       "      <td>13.69</td>\n",
       "      <td>1.923538</td>\n",
       "      <td>1.546680</td>\n",
       "    </tr>\n",
       "    <tr>\n",
       "      <th>10</th>\n",
       "      <td>3.9</td>\n",
       "      <td>63218.0</td>\n",
       "      <td>15.21</td>\n",
       "      <td>1.974842</td>\n",
       "      <td>1.574061</td>\n",
       "    </tr>\n",
       "    <tr>\n",
       "      <th>11</th>\n",
       "      <td>4.0</td>\n",
       "      <td>55794.0</td>\n",
       "      <td>16.00</td>\n",
       "      <td>2.000000</td>\n",
       "      <td>1.587401</td>\n",
       "    </tr>\n",
       "    <tr>\n",
       "      <th>12</th>\n",
       "      <td>4.0</td>\n",
       "      <td>56957.0</td>\n",
       "      <td>16.00</td>\n",
       "      <td>2.000000</td>\n",
       "      <td>1.587401</td>\n",
       "    </tr>\n",
       "    <tr>\n",
       "      <th>13</th>\n",
       "      <td>4.1</td>\n",
       "      <td>57081.0</td>\n",
       "      <td>16.81</td>\n",
       "      <td>2.024846</td>\n",
       "      <td>1.600521</td>\n",
       "    </tr>\n",
       "    <tr>\n",
       "      <th>14</th>\n",
       "      <td>4.5</td>\n",
       "      <td>61111.0</td>\n",
       "      <td>20.25</td>\n",
       "      <td>2.121320</td>\n",
       "      <td>1.650964</td>\n",
       "    </tr>\n",
       "    <tr>\n",
       "      <th>15</th>\n",
       "      <td>4.9</td>\n",
       "      <td>67938.0</td>\n",
       "      <td>24.01</td>\n",
       "      <td>2.213594</td>\n",
       "      <td>1.698499</td>\n",
       "    </tr>\n",
       "    <tr>\n",
       "      <th>16</th>\n",
       "      <td>5.1</td>\n",
       "      <td>66029.0</td>\n",
       "      <td>26.01</td>\n",
       "      <td>2.258318</td>\n",
       "      <td>1.721301</td>\n",
       "    </tr>\n",
       "    <tr>\n",
       "      <th>17</th>\n",
       "      <td>5.3</td>\n",
       "      <td>83088.0</td>\n",
       "      <td>28.09</td>\n",
       "      <td>2.302173</td>\n",
       "      <td>1.743513</td>\n",
       "    </tr>\n",
       "    <tr>\n",
       "      <th>18</th>\n",
       "      <td>5.9</td>\n",
       "      <td>81363.0</td>\n",
       "      <td>34.81</td>\n",
       "      <td>2.428992</td>\n",
       "      <td>1.806969</td>\n",
       "    </tr>\n",
       "    <tr>\n",
       "      <th>19</th>\n",
       "      <td>6.0</td>\n",
       "      <td>93940.0</td>\n",
       "      <td>36.00</td>\n",
       "      <td>2.449490</td>\n",
       "      <td>1.817121</td>\n",
       "    </tr>\n",
       "    <tr>\n",
       "      <th>20</th>\n",
       "      <td>6.8</td>\n",
       "      <td>91738.0</td>\n",
       "      <td>46.24</td>\n",
       "      <td>2.607681</td>\n",
       "      <td>1.894536</td>\n",
       "    </tr>\n",
       "    <tr>\n",
       "      <th>21</th>\n",
       "      <td>7.1</td>\n",
       "      <td>98273.0</td>\n",
       "      <td>50.41</td>\n",
       "      <td>2.664583</td>\n",
       "      <td>1.921997</td>\n",
       "    </tr>\n",
       "    <tr>\n",
       "      <th>22</th>\n",
       "      <td>7.9</td>\n",
       "      <td>101302.0</td>\n",
       "      <td>62.41</td>\n",
       "      <td>2.810694</td>\n",
       "      <td>1.991632</td>\n",
       "    </tr>\n",
       "    <tr>\n",
       "      <th>23</th>\n",
       "      <td>8.2</td>\n",
       "      <td>113812.0</td>\n",
       "      <td>67.24</td>\n",
       "      <td>2.863564</td>\n",
       "      <td>2.016530</td>\n",
       "    </tr>\n",
       "    <tr>\n",
       "      <th>24</th>\n",
       "      <td>8.7</td>\n",
       "      <td>109431.0</td>\n",
       "      <td>75.69</td>\n",
       "      <td>2.949576</td>\n",
       "      <td>2.056710</td>\n",
       "    </tr>\n",
       "    <tr>\n",
       "      <th>25</th>\n",
       "      <td>9.0</td>\n",
       "      <td>105582.0</td>\n",
       "      <td>81.00</td>\n",
       "      <td>3.000000</td>\n",
       "      <td>2.080084</td>\n",
       "    </tr>\n",
       "    <tr>\n",
       "      <th>26</th>\n",
       "      <td>9.5</td>\n",
       "      <td>116969.0</td>\n",
       "      <td>90.25</td>\n",
       "      <td>3.082207</td>\n",
       "      <td>2.117912</td>\n",
       "    </tr>\n",
       "    <tr>\n",
       "      <th>27</th>\n",
       "      <td>9.6</td>\n",
       "      <td>112635.0</td>\n",
       "      <td>92.16</td>\n",
       "      <td>3.098387</td>\n",
       "      <td>2.125317</td>\n",
       "    </tr>\n",
       "    <tr>\n",
       "      <th>28</th>\n",
       "      <td>10.3</td>\n",
       "      <td>122391.0</td>\n",
       "      <td>106.09</td>\n",
       "      <td>3.209361</td>\n",
       "      <td>2.175767</td>\n",
       "    </tr>\n",
       "    <tr>\n",
       "      <th>29</th>\n",
       "      <td>10.5</td>\n",
       "      <td>121872.0</td>\n",
       "      <td>110.25</td>\n",
       "      <td>3.240370</td>\n",
       "      <td>2.189760</td>\n",
       "    </tr>\n",
       "  </tbody>\n",
       "</table>\n",
       "</div>"
      ],
      "text/plain": [
       "    YearsExperience    Salary  YearsExperience_sq  YearsExperience_sqrt  \\\n",
       "0               1.1   39343.0                1.21              1.048809   \n",
       "1               1.3   46205.0                1.69              1.140175   \n",
       "2               1.5   37731.0                2.25              1.224745   \n",
       "3               2.0   43525.0                4.00              1.414214   \n",
       "4               2.2   39891.0                4.84              1.483240   \n",
       "5               2.9   56642.0                8.41              1.702939   \n",
       "6               3.0   60150.0                9.00              1.732051   \n",
       "7               3.2   54445.0               10.24              1.788854   \n",
       "8               3.2   64445.0               10.24              1.788854   \n",
       "9               3.7   57189.0               13.69              1.923538   \n",
       "10              3.9   63218.0               15.21              1.974842   \n",
       "11              4.0   55794.0               16.00              2.000000   \n",
       "12              4.0   56957.0               16.00              2.000000   \n",
       "13              4.1   57081.0               16.81              2.024846   \n",
       "14              4.5   61111.0               20.25              2.121320   \n",
       "15              4.9   67938.0               24.01              2.213594   \n",
       "16              5.1   66029.0               26.01              2.258318   \n",
       "17              5.3   83088.0               28.09              2.302173   \n",
       "18              5.9   81363.0               34.81              2.428992   \n",
       "19              6.0   93940.0               36.00              2.449490   \n",
       "20              6.8   91738.0               46.24              2.607681   \n",
       "21              7.1   98273.0               50.41              2.664583   \n",
       "22              7.9  101302.0               62.41              2.810694   \n",
       "23              8.2  113812.0               67.24              2.863564   \n",
       "24              8.7  109431.0               75.69              2.949576   \n",
       "25              9.0  105582.0               81.00              3.000000   \n",
       "26              9.5  116969.0               90.25              3.082207   \n",
       "27              9.6  112635.0               92.16              3.098387   \n",
       "28             10.3  122391.0              106.09              3.209361   \n",
       "29             10.5  121872.0              110.25              3.240370   \n",
       "\n",
       "    YearsExperience_cbrt  \n",
       "0               1.032280  \n",
       "1               1.091393  \n",
       "2               1.144714  \n",
       "3               1.259921  \n",
       "4               1.300591  \n",
       "5               1.426043  \n",
       "6               1.442250  \n",
       "7               1.473613  \n",
       "8               1.473613  \n",
       "9               1.546680  \n",
       "10              1.574061  \n",
       "11              1.587401  \n",
       "12              1.587401  \n",
       "13              1.600521  \n",
       "14              1.650964  \n",
       "15              1.698499  \n",
       "16              1.721301  \n",
       "17              1.743513  \n",
       "18              1.806969  \n",
       "19              1.817121  \n",
       "20              1.894536  \n",
       "21              1.921997  \n",
       "22              1.991632  \n",
       "23              2.016530  \n",
       "24              2.056710  \n",
       "25              2.080084  \n",
       "26              2.117912  \n",
       "27              2.125317  \n",
       "28              2.175767  \n",
       "29              2.189760  "
      ]
     },
     "execution_count": 37,
     "metadata": {},
     "output_type": "execute_result"
    }
   ],
   "source": [
    "data['YearsExperience_cbrt'] = np.cbrt(data.YearsExperience)\n",
    "data"
   ]
  },
  {
   "cell_type": "code",
   "execution_count": 38,
   "id": "81cbe14e",
   "metadata": {
    "ExecuteTime": {
     "end_time": "2023-06-26T07:11:55.934357Z",
     "start_time": "2023-06-26T07:11:55.906923Z"
    }
   },
   "outputs": [],
   "source": [
    "model_cbrt = smf.ols('np.log(Salary)~YearsExperience+YearsExperience_cbrt', data = data).fit()"
   ]
  },
  {
   "cell_type": "code",
   "execution_count": 39,
   "id": "ee6a62db",
   "metadata": {
    "ExecuteTime": {
     "end_time": "2023-06-26T07:11:56.589108Z",
     "start_time": "2023-06-26T07:11:56.554938Z"
    }
   },
   "outputs": [
    {
     "data": {
      "text/html": [
       "<table class=\"simpletable\">\n",
       "<caption>OLS Regression Results</caption>\n",
       "<tr>\n",
       "  <th>Dep. Variable:</th>     <td>np.log(Salary)</td>  <th>  R-squared:         </th> <td>   0.944</td>\n",
       "</tr>\n",
       "<tr>\n",
       "  <th>Model:</th>                   <td>OLS</td>       <th>  Adj. R-squared:    </th> <td>   0.939</td>\n",
       "</tr>\n",
       "<tr>\n",
       "  <th>Method:</th>             <td>Least Squares</td>  <th>  F-statistic:       </th> <td>   225.7</td>\n",
       "</tr>\n",
       "<tr>\n",
       "  <th>Date:</th>             <td>Mon, 26 Jun 2023</td> <th>  Prob (F-statistic):</th> <td>1.40e-17</td>\n",
       "</tr>\n",
       "<tr>\n",
       "  <th>Time:</th>                 <td>12:41:56</td>     <th>  Log-Likelihood:    </th> <td>  30.984</td>\n",
       "</tr>\n",
       "<tr>\n",
       "  <th>No. Observations:</th>      <td>    30</td>      <th>  AIC:               </th> <td>  -55.97</td>\n",
       "</tr>\n",
       "<tr>\n",
       "  <th>Df Residuals:</th>          <td>    27</td>      <th>  BIC:               </th> <td>  -51.76</td>\n",
       "</tr>\n",
       "<tr>\n",
       "  <th>Df Model:</th>              <td>     2</td>      <th>                     </th>     <td> </td>   \n",
       "</tr>\n",
       "<tr>\n",
       "  <th>Covariance Type:</th>      <td>nonrobust</td>    <th>                     </th>     <td> </td>   \n",
       "</tr>\n",
       "</table>\n",
       "<table class=\"simpletable\">\n",
       "<tr>\n",
       "            <td></td>              <th>coef</th>     <th>std err</th>      <th>t</th>      <th>P>|t|</th>  <th>[0.025</th>    <th>0.975]</th>  \n",
       "</tr>\n",
       "<tr>\n",
       "  <th>Intercept</th>            <td>    9.8422</td> <td>    0.285</td> <td>   34.565</td> <td> 0.000</td> <td>    9.258</td> <td>   10.426</td>\n",
       "</tr>\n",
       "<tr>\n",
       "  <th>YearsExperience</th>      <td>    0.0546</td> <td>    0.031</td> <td>    1.782</td> <td> 0.086</td> <td>   -0.008</td> <td>    0.118</td>\n",
       "</tr>\n",
       "<tr>\n",
       "  <th>YearsExperience_cbrt</th> <td>    0.6181</td> <td>    0.262</td> <td>    2.355</td> <td> 0.026</td> <td>    0.079</td> <td>    1.157</td>\n",
       "</tr>\n",
       "</table>\n",
       "<table class=\"simpletable\">\n",
       "<tr>\n",
       "  <th>Omnibus:</th>       <td> 1.465</td> <th>  Durbin-Watson:     </th> <td>   1.674</td>\n",
       "</tr>\n",
       "<tr>\n",
       "  <th>Prob(Omnibus):</th> <td> 0.481</td> <th>  Jarque-Bera (JB):  </th> <td>   1.104</td>\n",
       "</tr>\n",
       "<tr>\n",
       "  <th>Skew:</th>          <td> 0.217</td> <th>  Prob(JB):          </th> <td>   0.576</td>\n",
       "</tr>\n",
       "<tr>\n",
       "  <th>Kurtosis:</th>      <td> 2.167</td> <th>  Cond. No.          </th> <td>    147.</td>\n",
       "</tr>\n",
       "</table><br/><br/>Notes:<br/>[1] Standard Errors assume that the covariance matrix of the errors is correctly specified."
      ],
      "text/plain": [
       "<class 'statsmodels.iolib.summary.Summary'>\n",
       "\"\"\"\n",
       "                            OLS Regression Results                            \n",
       "==============================================================================\n",
       "Dep. Variable:         np.log(Salary)   R-squared:                       0.944\n",
       "Model:                            OLS   Adj. R-squared:                  0.939\n",
       "Method:                 Least Squares   F-statistic:                     225.7\n",
       "Date:                Mon, 26 Jun 2023   Prob (F-statistic):           1.40e-17\n",
       "Time:                        12:41:56   Log-Likelihood:                 30.984\n",
       "No. Observations:                  30   AIC:                            -55.97\n",
       "Df Residuals:                      27   BIC:                            -51.76\n",
       "Df Model:                           2                                         \n",
       "Covariance Type:            nonrobust                                         \n",
       "========================================================================================\n",
       "                           coef    std err          t      P>|t|      [0.025      0.975]\n",
       "----------------------------------------------------------------------------------------\n",
       "Intercept                9.8422      0.285     34.565      0.000       9.258      10.426\n",
       "YearsExperience          0.0546      0.031      1.782      0.086      -0.008       0.118\n",
       "YearsExperience_cbrt     0.6181      0.262      2.355      0.026       0.079       1.157\n",
       "==============================================================================\n",
       "Omnibus:                        1.465   Durbin-Watson:                   1.674\n",
       "Prob(Omnibus):                  0.481   Jarque-Bera (JB):                1.104\n",
       "Skew:                           0.217   Prob(JB):                        0.576\n",
       "Kurtosis:                       2.167   Cond. No.                         147.\n",
       "==============================================================================\n",
       "\n",
       "Notes:\n",
       "[1] Standard Errors assume that the covariance matrix of the errors is correctly specified.\n",
       "\"\"\""
      ]
     },
     "execution_count": 39,
     "metadata": {},
     "output_type": "execute_result"
    }
   ],
   "source": [
    "model_cbrt.summary()"
   ]
  },
  {
   "cell_type": "markdown",
   "id": "52cb58fb",
   "metadata": {},
   "source": [
    "------------------\n",
    "**This model has crossed the target r-squared value. The value is 0.944. Not much difference from the previous models**"
   ]
  },
  {
   "cell_type": "code",
   "execution_count": 40,
   "id": "ca73ac7a",
   "metadata": {
    "ExecuteTime": {
     "end_time": "2023-06-26T07:12:37.063590Z",
     "start_time": "2023-06-26T07:12:37.042647Z"
    }
   },
   "outputs": [
    {
     "data": {
      "text/plain": [
       "5946.671096534367"
      ]
     },
     "execution_count": 40,
     "metadata": {},
     "output_type": "execute_result"
    }
   ],
   "source": [
    "pred6 = np.exp(model_cbrt.predict(data))\n",
    "rmse6 = np.sqrt(mean_squared_error(data['Salary'], pred6))\n",
    "rmse6"
   ]
  },
  {
   "cell_type": "code",
   "execution_count": 41,
   "id": "4826167a",
   "metadata": {
    "ExecuteTime": {
     "end_time": "2023-06-26T07:12:51.334387Z",
     "start_time": "2023-06-26T07:12:51.116098Z"
    }
   },
   "outputs": [
    {
     "data": {
      "text/plain": [
       "Text(0, 0.5, 'Salary')"
      ]
     },
     "execution_count": 41,
     "metadata": {},
     "output_type": "execute_result"
    },
    {
     "data": {
      "image/png": "[encoded data removed]",
      "text/plain": [
       "<Figure size 640x480 with 1 Axes>"
      ]
     },
     "metadata": {},
     "output_type": "display_data"
    }
   ],
   "source": [
    "plt.scatter(data['YearsExperience'], data['Salary'], color = 'red')\n",
    "plt.plot(data['YearsExperience'], pred6, color = 'black')\n",
    "plt.xlabel('Years of Experience')\n",
    "plt.ylabel('Salary')"
   ]
  },
  {
   "cell_type": "code",
   "execution_count": 42,
   "id": "64f8ddfe",
   "metadata": {
    "ExecuteTime": {
     "end_time": "2023-06-26T07:12:54.223600Z",
     "start_time": "2023-06-26T07:12:54.027345Z"
    }
   },
   "outputs": [
    {
     "data": {
      "text/plain": [
       "(array([1., 1., 5., 5., 3., 4., 3., 2., 3., 3.]),\n",
       " array([-1.89842836, -1.53542038, -1.1724124 , -0.80940441, -0.44639643,\n",
       "        -0.08338845,  0.27961953,  0.64262752,  1.0056355 ,  1.36864348,\n",
       "         1.73165146]),\n",
       " <BarContainer object of 10 artists>)"
      ]
     },
     "execution_count": 42,
     "metadata": {},
     "output_type": "execute_result"
    },
    {
     "data": {
      "image/png": "[encoded data removed]",
      "text/plain": [
       "<Figure size 640x480 with 1 Axes>"
      ]
     },
     "metadata": {},
     "output_type": "display_data"
    }
   ],
   "source": [
    "plt.hist(model_cbrt.resid_pearson)"
   ]
  },
  {
   "cell_type": "code",
   "execution_count": 43,
   "id": "55b24725",
   "metadata": {
    "ExecuteTime": {
     "end_time": "2023-06-26T07:12:56.478738Z",
     "start_time": "2023-06-26T07:12:56.457795Z"
    }
   },
   "outputs": [
    {
     "data": {
      "text/plain": [
       "2.2818783899462384e-14"
      ]
     },
     "execution_count": 43,
     "metadata": {},
     "output_type": "execute_result"
    }
   ],
   "source": [
    "np.mean(model_cbrt.resid_pearson)"
   ]
  },
  {
   "cell_type": "markdown",
   "id": "a9bd7b44",
   "metadata": {},
   "source": [
    "### Cbrt plus Sqrt log model"
   ]
  },
  {
   "cell_type": "code",
   "execution_count": 44,
   "id": "40eebd90",
   "metadata": {
    "ExecuteTime": {
     "end_time": "2023-06-26T07:13:13.822146Z",
     "start_time": "2023-06-26T07:13:13.802199Z"
    }
   },
   "outputs": [],
   "source": [
    "model_cbrt_sqrt = smf.ols('np.log(Salary)~YearsExperience+YearsExperience_sqrt+YearsExperience_cbrt', data = data).fit()"
   ]
  },
  {
   "cell_type": "code",
   "execution_count": 45,
   "id": "59dc61be",
   "metadata": {
    "ExecuteTime": {
     "end_time": "2023-06-26T07:13:14.734769Z",
     "start_time": "2023-06-26T07:13:14.706873Z"
    }
   },
   "outputs": [
    {
     "data": {
      "text/html": [
       "<table class=\"simpletable\">\n",
       "<caption>OLS Regression Results</caption>\n",
       "<tr>\n",
       "  <th>Dep. Variable:</th>     <td>np.log(Salary)</td>  <th>  R-squared:         </th> <td>   0.951</td>\n",
       "</tr>\n",
       "<tr>\n",
       "  <th>Model:</th>                   <td>OLS</td>       <th>  Adj. R-squared:    </th> <td>   0.945</td>\n",
       "</tr>\n",
       "<tr>\n",
       "  <th>Method:</th>             <td>Least Squares</td>  <th>  F-statistic:       </th> <td>   168.3</td>\n",
       "</tr>\n",
       "<tr>\n",
       "  <th>Date:</th>             <td>Mon, 26 Jun 2023</td> <th>  Prob (F-statistic):</th> <td>3.82e-17</td>\n",
       "</tr>\n",
       "<tr>\n",
       "  <th>Time:</th>                 <td>12:43:14</td>     <th>  Log-Likelihood:    </th> <td>  33.110</td>\n",
       "</tr>\n",
       "<tr>\n",
       "  <th>No. Observations:</th>      <td>    30</td>      <th>  AIC:               </th> <td>  -58.22</td>\n",
       "</tr>\n",
       "<tr>\n",
       "  <th>Df Residuals:</th>          <td>    26</td>      <th>  BIC:               </th> <td>  -52.62</td>\n",
       "</tr>\n",
       "<tr>\n",
       "  <th>Df Model:</th>              <td>     3</td>      <th>                     </th>     <td> </td>   \n",
       "</tr>\n",
       "<tr>\n",
       "  <th>Covariance Type:</th>      <td>nonrobust</td>    <th>                     </th>     <td> </td>   \n",
       "</tr>\n",
       "</table>\n",
       "<table class=\"simpletable\">\n",
       "<tr>\n",
       "            <td></td>              <th>coef</th>     <th>std err</th>      <th>t</th>      <th>P>|t|</th>  <th>[0.025</th>    <th>0.975]</th>  \n",
       "</tr>\n",
       "<tr>\n",
       "  <th>Intercept</th>            <td>   15.1388</td> <td>    2.676</td> <td>    5.658</td> <td> 0.000</td> <td>    9.639</td> <td>   20.639</td>\n",
       "</tr>\n",
       "<tr>\n",
       "  <th>YearsExperience</th>      <td>   -0.6168</td> <td>    0.339</td> <td>   -1.821</td> <td> 0.080</td> <td>   -1.313</td> <td>    0.079</td>\n",
       "</tr>\n",
       "<tr>\n",
       "  <th>YearsExperience_sqrt</th> <td>   11.0375</td> <td>    5.547</td> <td>    1.990</td> <td> 0.057</td> <td>   -0.365</td> <td>   22.440</td>\n",
       "</tr>\n",
       "<tr>\n",
       "  <th>YearsExperience_cbrt</th> <td>  -14.9386</td> <td>    7.823</td> <td>   -1.910</td> <td> 0.067</td> <td>  -31.018</td> <td>    1.141</td>\n",
       "</tr>\n",
       "</table>\n",
       "<table class=\"simpletable\">\n",
       "<tr>\n",
       "  <th>Omnibus:</th>       <td> 1.555</td> <th>  Durbin-Watson:     </th> <td>   1.967</td>\n",
       "</tr>\n",
       "<tr>\n",
       "  <th>Prob(Omnibus):</th> <td> 0.460</td> <th>  Jarque-Bera (JB):  </th> <td>   1.434</td>\n",
       "</tr>\n",
       "<tr>\n",
       "  <th>Skew:</th>          <td> 0.434</td> <th>  Prob(JB):          </th> <td>   0.488</td>\n",
       "</tr>\n",
       "<tr>\n",
       "  <th>Kurtosis:</th>      <td> 2.374</td> <th>  Cond. No.          </th> <td>4.23e+03</td>\n",
       "</tr>\n",
       "</table><br/><br/>Notes:<br/>[1] Standard Errors assume that the covariance matrix of the errors is correctly specified.<br/>[2] The condition number is large, 4.23e+03. This might indicate that there are<br/>strong multicollinearity or other numerical problems."
      ],
      "text/plain": [
       "<class 'statsmodels.iolib.summary.Summary'>\n",
       "\"\"\"\n",
       "                            OLS Regression Results                            \n",
       "==============================================================================\n",
       "Dep. Variable:         np.log(Salary)   R-squared:                       0.951\n",
       "Model:                            OLS   Adj. R-squared:                  0.945\n",
       "Method:                 Least Squares   F-statistic:                     168.3\n",
       "Date:                Mon, 26 Jun 2023   Prob (F-statistic):           3.82e-17\n",
       "Time:                        12:43:14   Log-Likelihood:                 33.110\n",
       "No. Observations:                  30   AIC:                            -58.22\n",
       "Df Residuals:                      26   BIC:                            -52.62\n",
       "Df Model:                           3                                         \n",
       "Covariance Type:            nonrobust                                         \n",
       "========================================================================================\n",
       "                           coef    std err          t      P>|t|      [0.025      0.975]\n",
       "----------------------------------------------------------------------------------------\n",
       "Intercept               15.1388      2.676      5.658      0.000       9.639      20.639\n",
       "YearsExperience         -0.6168      0.339     -1.821      0.080      -1.313       0.079\n",
       "YearsExperience_sqrt    11.0375      5.547      1.990      0.057      -0.365      22.440\n",
       "YearsExperience_cbrt   -14.9386      7.823     -1.910      0.067     -31.018       1.141\n",
       "==============================================================================\n",
       "Omnibus:                        1.555   Durbin-Watson:                   1.967\n",
       "Prob(Omnibus):                  0.460   Jarque-Bera (JB):                1.434\n",
       "Skew:                           0.434   Prob(JB):                        0.488\n",
       "Kurtosis:                       2.374   Cond. No.                     4.23e+03\n",
       "==============================================================================\n",
       "\n",
       "Notes:\n",
       "[1] Standard Errors assume that the covariance matrix of the errors is correctly specified.\n",
       "[2] The condition number is large, 4.23e+03. This might indicate that there are\n",
       "strong multicollinearity or other numerical problems.\n",
       "\"\"\""
      ]
     },
     "execution_count": 45,
     "metadata": {},
     "output_type": "execute_result"
    }
   ],
   "source": [
    "model_cbrt_sqrt.summary()"
   ]
  },
  {
   "cell_type": "markdown",
   "id": "7c2a4c66",
   "metadata": {},
   "source": [
    "------------------\n",
    "**This model has crossed the target r-squared value. The new value is 0.951. This is the highest so far**"
   ]
  },
  {
   "cell_type": "code",
   "execution_count": 46,
   "id": "86e09ff0",
   "metadata": {
    "ExecuteTime": {
     "end_time": "2023-06-26T07:13:41.752790Z",
     "start_time": "2023-06-26T07:13:41.738827Z"
    }
   },
   "outputs": [
    {
     "data": {
      "text/plain": [
       "5191.27245358687"
      ]
     },
     "execution_count": 46,
     "metadata": {},
     "output_type": "execute_result"
    }
   ],
   "source": [
    "pred7 = np.exp(model_cbrt_sqrt.predict(data))\n",
    "rmse7 = np.sqrt(mean_squared_error(data['Salary'], pred7))\n",
    "rmse7"
   ]
  },
  {
   "cell_type": "code",
   "execution_count": 47,
   "id": "1fc25dc8",
   "metadata": {
    "ExecuteTime": {
     "end_time": "2023-06-26T07:13:51.775723Z",
     "start_time": "2023-06-26T07:13:51.594237Z"
    }
   },
   "outputs": [
    {
     "data": {
      "text/plain": [
       "Text(0, 0.5, 'Salary')"
      ]
     },
     "execution_count": 47,
     "metadata": {},
     "output_type": "execute_result"
    },
    {
     "data": {
      "image/png": "[encoded data removed]",
      "text/plain": [
       "<Figure size 640x480 with 1 Axes>"
      ]
     },
     "metadata": {},
     "output_type": "display_data"
    }
   ],
   "source": [
    "plt.scatter(data['YearsExperience'], data['Salary'], color = 'red')\n",
    "plt.plot(data['YearsExperience'], pred7, color = 'black')\n",
    "plt.xlabel('Years of Experience')\n",
    "plt.ylabel('Salary')"
   ]
  },
  {
   "cell_type": "code",
   "execution_count": 48,
   "id": "264a8b61",
   "metadata": {
    "ExecuteTime": {
     "end_time": "2023-06-26T07:13:55.237983Z",
     "start_time": "2023-06-26T07:13:55.009595Z"
    }
   },
   "outputs": [
    {
     "data": {
      "text/plain": [
       "(array([3., 4., 2., 6., 6., 2., 1., 2., 3., 1.]),\n",
       " array([-1.50781021, -1.15051679, -0.79322338, -0.43592997, -0.07863655,\n",
       "         0.27865686,  0.63595028,  0.99324369,  1.3505371 ,  1.70783052,\n",
       "         2.06512393]),\n",
       " <BarContainer object of 10 artists>)"
      ]
     },
     "execution_count": 48,
     "metadata": {},
     "output_type": "execute_result"
    },
    {
     "data": {
      "image/png": "[encoded data removed]",
      "text/plain": [
       "<Figure size 640x480 with 1 Axes>"
      ]
     },
     "metadata": {},
     "output_type": "display_data"
    }
   ],
   "source": [
    "plt.hist(model_cbrt_sqrt.resid_pearson)"
   ]
  },
  {
   "cell_type": "code",
   "execution_count": 49,
   "id": "d01c645b",
   "metadata": {
    "ExecuteTime": {
     "end_time": "2023-06-26T07:13:55.891819Z",
     "start_time": "2023-06-26T07:13:55.873839Z"
    }
   },
   "outputs": [
    {
     "data": {
      "text/plain": [
       "1.6712302837914213e-12"
      ]
     },
     "execution_count": 49,
     "metadata": {},
     "output_type": "execute_result"
    }
   ],
   "source": [
    "np.mean(model_cbrt_sqrt.resid_pearson)"
   ]
  },
  {
   "cell_type": "markdown",
   "id": "11a5ea3a",
   "metadata": {},
   "source": [
    "--------------\n",
    "\n",
    "The model with square root and the cube root of the sorting time has the highest r-squared value among all the models."
   ]
  },
  {
   "cell_type": "code",
   "execution_count": null,
   "id": "fd63d83c",
   "metadata": {},
   "outputs": [],
   "source": []
  }
 ],
 "metadata": {
  "kernelspec": {
   "display_name": "Python 3 (ipykernel)",
   "language": "python",
   "name": "python3"
  },
  "language_info": {
   "codemirror_mode": {
    "name": "ipython",
    "version": 3
   },
   "file_extension": ".py",
   "mimetype": "text/x-python",
   "name": "python",
   "nbconvert_exporter": "python",
   "pygments_lexer": "ipython3",
   "version": "3.10.9"
  },
  "varInspector": {
   "cols": {
    "lenName": 16,
    "lenType": 16,
    "lenVar": 40
   },
   "kernels_config": {
    "python": {
     "delete_cmd_postfix": "",
     "delete_cmd_prefix": "del ",
     "library": "var_list.py",
     "varRefreshCmd": "print(var_dic_list())"
    },
    "r": {
     "delete_cmd_postfix": ") ",
     "delete_cmd_prefix": "rm(",
     "library": "var_list.r",
     "varRefreshCmd": "cat(var_dic_list()) "
    }
   },
   "types_to_exclude": [
    "module",
    "function",
    "builtin_function_or_method",
    "instance",
    "_Feature"
   ],
   "window_display": false
  }
 },
 "nbformat": 4,
 "nbformat_minor": 5
}
